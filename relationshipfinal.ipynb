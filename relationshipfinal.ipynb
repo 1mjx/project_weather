{
 "cells": [
  {
   "cell_type": "code",
   "execution_count": 1,
   "metadata": {},
   "outputs": [
    {
     "name": "stdout",
     "output_type": "stream",
     "text": [
      "       LCLid        date     KWH  cloud_cover  sunshine  global_radiation  \\\n",
      "0  MAC000002  2012-10-12   7.098          5.0       6.4             106.0   \n",
      "1  MAC000002  2012-10-13  11.087          4.0       4.1              85.0   \n",
      "2  MAC000002  2012-10-14  13.223          1.0       7.7             113.0   \n",
      "3  MAC000002  2012-10-15  10.257          6.0       0.6              44.0   \n",
      "4  MAC000002  2012-10-16   9.769          4.0       7.3             107.0   \n",
      "\n",
      "   max_temp  mean_temp  min_temp  precipitation  pressure  snow_depth  \n",
      "0      13.5       12.3       9.7            0.0  100580.0         0.0  \n",
      "1      12.9        9.6       5.6            0.8  100480.0         0.0  \n",
      "2      14.2        7.4       1.9            0.0  100270.0         0.0  \n",
      "3      15.9        8.6       2.9            1.4  100240.0         0.0  \n",
      "4      17.5       12.1       8.3           12.0  100090.0         0.0  \n"
     ]
    }
   ],
   "source": [
    "import pandas as pd\n",
    "\n",
    "df_rela = pd.read_csv('merged_data.csv')\n",
    "print(df_rela.head())"
   ]
  },
  {
   "cell_type": "code",
   "execution_count": 2,
   "metadata": {},
   "outputs": [],
   "source": [
    "from sklearn.preprocessing import StandardScaler\n",
    "# Delete rows that contain null values\n",
    "df_rela = df_rela.dropna()\n"
   ]
  },
  {
   "cell_type": "code",
   "execution_count": 3,
   "metadata": {},
   "outputs": [],
   "source": [
    "# Convert to date type\n",
    "df_rela['date'] = pd.to_datetime(df_rela['date'])\n",
    "\n",
    "# Extract date features\n",
    "df_rela['month'] = df_rela['date'].dt.month\n",
    "df_rela['day'] = df_rela['date'].dt.day\n",
    "df_rela['day_of_week'] = df_rela['date'].dt.dayofweek\n",
    "df_rela['week_of_year'] = df_rela['date'].dt.isocalendar().week"
   ]
  },
  {
   "cell_type": "code",
   "execution_count": 4,
   "metadata": {},
   "outputs": [
    {
     "name": "stdout",
     "output_type": "stream",
     "text": [
      "              date      LCLid  season     KWH  cloud_cover  sunshine  \\\n",
      "0       2012-10-12  MAC000002       2   7.098          5.0       6.4   \n",
      "1       2012-10-13  MAC000002       2  11.087          4.0       4.1   \n",
      "2       2012-10-14  MAC000002       2  13.223          1.0       7.7   \n",
      "3       2012-10-15  MAC000002       2  10.257          6.0       0.6   \n",
      "4       2012-10-16  MAC000002       2   9.769          4.0       7.3   \n",
      "...            ...        ...     ...     ...          ...       ...   \n",
      "3510428 2014-02-24  MAC005567       3   4.107          4.0       4.4   \n",
      "3510429 2014-02-25  MAC005567       3   5.762          5.0       2.0   \n",
      "3510430 2014-02-26  MAC005567       3   5.066          1.0       7.7   \n",
      "3510431 2014-02-27  MAC005567       3   3.217          4.0       4.9   \n",
      "3510432 2014-02-28  MAC005567       3   0.366          7.0       1.0   \n",
      "\n",
      "         global_radiation  max_temp  mean_temp  min_temp  precipitation  \\\n",
      "0                   106.0      13.5       12.3       9.7            0.0   \n",
      "1                    85.0      12.9        9.6       5.6            0.8   \n",
      "2                   113.0      14.2        7.4       1.9            0.0   \n",
      "3                    44.0      15.9        8.6       2.9            1.4   \n",
      "4                   107.0      17.5       12.1       8.3           12.0   \n",
      "...                   ...       ...        ...       ...            ...   \n",
      "3510428              82.0      10.7       10.9       6.8            3.2   \n",
      "3510429              60.0      11.8        9.4       8.1            2.6   \n",
      "3510430             111.0      12.0        7.4       2.9            2.8   \n",
      "3510431              90.0       8.4        8.9       5.7            4.8   \n",
      "3510432              50.0      10.1        5.1       1.8            3.4   \n",
      "\n",
      "         pressure  snow_depth  month  day  day_of_week  week_of_year  \n",
      "0        100580.0         0.0     10   12            4            41  \n",
      "1        100480.0         0.0     10   13            5            41  \n",
      "2        100270.0         0.0     10   14            6            41  \n",
      "3        100240.0         0.0     10   15            0            42  \n",
      "4        100090.0         0.0     10   16            1            42  \n",
      "...           ...         ...    ...  ...          ...           ...  \n",
      "3510428  100500.0         0.0      2   24            0             9  \n",
      "3510429  100050.0         0.0      2   25            1             9  \n",
      "3510430  101270.0         0.0      2   26            2             9  \n",
      "3510431  100700.0         0.0      2   27            3             9  \n",
      "3510432   99890.0         0.0      2   28            4             9  \n",
      "\n",
      "[3509570 rows x 17 columns]\n"
     ]
    }
   ],
   "source": [
    "# Seasonal function\n",
    "def get_season(month):\n",
    "    if month in [3, 4, 5]:  # sp：3, 4, 5\n",
    "        return 0\n",
    "    elif month in [6, 7, 8]:  # summ：6, 7, 8\n",
    "        return 1\n",
    "    elif month in [9, 10, 11]:  # aut：9, 10, 11\n",
    "        return 2\n",
    "    else:  # win：12, 1, 2\n",
    "        return 3\n",
    "    \n",
    "df_rela['season'] = df_rela['month'].apply(get_season)\n",
    "\n",
    "df_rela = df_rela[['date', 'LCLid', 'season', 'KWH', 'cloud_cover', 'sunshine', 'global_radiation',\n",
    "                   'max_temp', 'mean_temp', 'min_temp', 'precipitation', 'pressure', 'snow_depth', 'month' , 'day' , 'day_of_week' , 'week_of_year']]\n",
    "\n",
    "print(df_rela)"
   ]
  },
  {
   "cell_type": "code",
   "execution_count": 5,
   "metadata": {},
   "outputs": [
    {
     "name": "stdout",
     "output_type": "stream",
     "text": [
      "              date      LCLid    season       KWH  cloud_cover  sunshine  \\\n",
      "0       2012-10-12  MAC000002  0.324801 -0.331893     0.120977  0.644589   \n",
      "1       2012-10-13  MAC000002  0.324801  0.104816    -0.309433  0.048299   \n",
      "2       2012-10-14  MAC000002  0.324801  0.338662    -1.600664  0.981622   \n",
      "3       2012-10-15  MAC000002  0.324801  0.013949     0.551387 -0.859097   \n",
      "4       2012-10-16  MAC000002  0.324801 -0.039476    -0.309433  0.877919   \n",
      "...            ...        ...       ...       ...          ...       ...   \n",
      "3510428 2014-02-24  MAC005567  1.247355 -0.659343    -0.309433  0.126076   \n",
      "3510429 2014-02-25  MAC005567  1.247355 -0.478156     0.120977 -0.496139   \n",
      "3510430 2014-02-26  MAC005567  1.247355 -0.554353    -1.600664  0.981622   \n",
      "3510431 2014-02-27  MAC005567  1.247355 -0.756779    -0.309433  0.255704   \n",
      "3510432 2014-02-28  MAC005567  1.247355 -1.068902     0.981798 -0.755395   \n",
      "\n",
      "         global_radiation  max_temp  mean_temp  min_temp  precipitation  \\\n",
      "0               -0.035946 -0.217980   0.178313  0.420816      -0.518913   \n",
      "1               -0.279606 -0.305950  -0.280952 -0.349689      -0.312907   \n",
      "2                0.045274 -0.115349  -0.655167 -1.045024      -0.518913   \n",
      "3               -0.755324  0.133900  -0.451050 -0.857096      -0.158403   \n",
      "4               -0.024343  0.368486   0.144294  0.157717       2.571167   \n",
      "...                   ...       ...        ...       ...            ...   \n",
      "3510428         -0.314415 -0.628507  -0.059824 -0.124176       0.305109   \n",
      "3510429         -0.569678 -0.467228  -0.314971  0.120131       0.150605   \n",
      "3510430          0.022068 -0.437905  -0.655167 -0.857096       0.202106   \n",
      "3510431         -0.221592 -0.965725  -0.400020 -0.330897       0.717119   \n",
      "3510432         -0.685707 -0.716477  -1.046393 -1.063817       0.356610   \n",
      "\n",
      "         pressure  snow_depth     month       day  day_of_week  week_of_year  \n",
      "0       -0.674229   -0.080905  0.922713 -0.435648     0.501448      0.884466  \n",
      "1       -0.768405   -0.080905  0.922713 -0.321879     1.001958      0.884466  \n",
      "2       -0.966175   -0.080905  0.922713 -0.208111     1.502468      0.884466  \n",
      "3       -0.994428   -0.080905  0.922713 -0.094342    -1.500594      0.949097  \n",
      "4       -1.135692   -0.080905  0.922713  0.019426    -1.000083      0.949097  \n",
      "...           ...         ...       ...       ...          ...           ...  \n",
      "3510428 -0.749570   -0.080905 -1.327575  0.929575    -1.500594     -1.183752  \n",
      "3510429 -1.173362   -0.080905 -1.327575  1.043343    -1.000083     -1.183752  \n",
      "3510430 -0.024414   -0.080905 -1.327575  1.157112    -0.499573     -1.183752  \n",
      "3510431 -0.561218   -0.080905 -1.327575  1.270881     0.000937     -1.183752  \n",
      "3510432 -1.324044   -0.080905 -1.327575  1.384649     0.501448     -1.183752  \n",
      "\n",
      "[3509570 rows x 17 columns]\n"
     ]
    }
   ],
   "source": [
    "# z-score\n",
    "columns_to_scale = ['KWH', 'cloud_cover', 'sunshine', 'global_radiation', \n",
    "                    'max_temp', 'mean_temp', 'min_temp', 'precipitation', \n",
    "                    'pressure', 'snow_depth','season','month' , 'day' , 'day_of_week' , 'week_of_year']\n",
    "\n",
    "# initialize StandardScaler\n",
    "scaler = StandardScaler()\n",
    "df_rela[columns_to_scale] = scaler.fit_transform(df_rela[columns_to_scale])\n",
    "\n",
    "print(df_rela)"
   ]
  },
  {
   "cell_type": "code",
   "execution_count": 6,
   "metadata": {},
   "outputs": [
    {
     "name": "stdout",
     "output_type": "stream",
     "text": [
      "season              0.102789\n",
      "KWH                 1.000000\n",
      "cloud_cover         0.060001\n",
      "sunshine            0.091417\n",
      "global_radiation    0.145463\n",
      "max_temp            0.164629\n",
      "mean_temp           0.168483\n",
      "min_temp            0.157012\n",
      "precipitation       0.032972\n",
      "pressure            0.037990\n",
      "snow_depth          0.034984\n",
      "month               0.026115\n",
      "day                 0.004711\n",
      "day_of_week         0.017292\n",
      "week_of_year        0.029088\n",
      "Name: KWH, dtype: float64\n",
      "selected features based on combined correlation: \n",
      " ['season', 'KWH', 'global_radiation', 'max_temp', 'mean_temp', 'min_temp']\n"
     ]
    }
   ],
   "source": [
    "import numpy as np\n",
    "\n",
    "# Delete non-numeric column\n",
    "df_rela_numeric = df_rela.drop(columns=['LCLid', 'date'])\n",
    "\n",
    "pearson_corr_kwh = df_rela_numeric.corr()['KWH']\n",
    "spearman_corr_kwh = df_rela_numeric.corr(method='spearman')['KWH']\n",
    "combined_corr = (pearson_corr_kwh.abs() + spearman_corr_kwh.abs() ) /2\n",
    "\n",
    "print(combined_corr)\n",
    "\n",
    "threshold = 0.1\n",
    "selected_features = combined_corr[combined_corr > threshold].index.tolist()\n",
    "\n",
    "print('selected features based on combined correlation: \\n', selected_features)"
   ]
  },
  {
   "cell_type": "code",
   "execution_count": 7,
   "metadata": {},
   "outputs": [
    {
     "name": "stdout",
     "output_type": "stream",
     "text": [
      "             date      LCLid    season       KWH  cloud_cover  sunshine  \\\n",
      "0        20121012  MAC000002  0.324801 -0.331893     0.120977  0.644589   \n",
      "1        20121013  MAC000002  0.324801  0.104816    -0.309433  0.048299   \n",
      "2        20121014  MAC000002  0.324801  0.338662    -1.600664  0.981622   \n",
      "3        20121015  MAC000002  0.324801  0.013949     0.551387 -0.859097   \n",
      "4        20121016  MAC000002  0.324801 -0.039476    -0.309433  0.877919   \n",
      "...           ...        ...       ...       ...          ...       ...   \n",
      "3510428  20140224  MAC005567  1.247355 -0.659343    -0.309433  0.126076   \n",
      "3510429  20140225  MAC005567  1.247355 -0.478156     0.120977 -0.496139   \n",
      "3510430  20140226  MAC005567  1.247355 -0.554353    -1.600664  0.981622   \n",
      "3510431  20140227  MAC005567  1.247355 -0.756779    -0.309433  0.255704   \n",
      "3510432  20140228  MAC005567  1.247355 -1.068902     0.981798 -0.755395   \n",
      "\n",
      "         global_radiation  max_temp  mean_temp  min_temp  precipitation  \\\n",
      "0               -0.035946 -0.217980   0.178313  0.420816      -0.518913   \n",
      "1               -0.279606 -0.305950  -0.280952 -0.349689      -0.312907   \n",
      "2                0.045274 -0.115349  -0.655167 -1.045024      -0.518913   \n",
      "3               -0.755324  0.133900  -0.451050 -0.857096      -0.158403   \n",
      "4               -0.024343  0.368486   0.144294  0.157717       2.571167   \n",
      "...                   ...       ...        ...       ...            ...   \n",
      "3510428         -0.314415 -0.628507  -0.059824 -0.124176       0.305109   \n",
      "3510429         -0.569678 -0.467228  -0.314971  0.120131       0.150605   \n",
      "3510430          0.022068 -0.437905  -0.655167 -0.857096       0.202106   \n",
      "3510431         -0.221592 -0.965725  -0.400020 -0.330897       0.717119   \n",
      "3510432         -0.685707 -0.716477  -1.046393 -1.063817       0.356610   \n",
      "\n",
      "         pressure  snow_depth     month       day  day_of_week  week_of_year  \n",
      "0       -0.674229   -0.080905  0.922713 -0.435648     0.501448      0.884466  \n",
      "1       -0.768405   -0.080905  0.922713 -0.321879     1.001958      0.884466  \n",
      "2       -0.966175   -0.080905  0.922713 -0.208111     1.502468      0.884466  \n",
      "3       -0.994428   -0.080905  0.922713 -0.094342    -1.500594      0.949097  \n",
      "4       -1.135692   -0.080905  0.922713  0.019426    -1.000083      0.949097  \n",
      "...           ...         ...       ...       ...          ...           ...  \n",
      "3510428 -0.749570   -0.080905 -1.327575  0.929575    -1.500594     -1.183752  \n",
      "3510429 -1.173362   -0.080905 -1.327575  1.043343    -1.000083     -1.183752  \n",
      "3510430 -0.024414   -0.080905 -1.327575  1.157112    -0.499573     -1.183752  \n",
      "3510431 -0.561218   -0.080905 -1.327575  1.270881     0.000937     -1.183752  \n",
      "3510432 -1.324044   -0.080905 -1.327575  1.384649     0.501448     -1.183752  \n",
      "\n",
      "[3509570 rows x 17 columns]\n"
     ]
    }
   ],
   "source": [
    "#  YYYYMMDD\n",
    "df_rela['date'] = df_rela['date'].dt.strftime('%Y%m%d').astype(int)\n",
    "print(df_rela)\n",
    "\n",
    "df_rela = df_rela.sample(frac=0.05, random_state=42)  # Too much data to run through, shrink the data set"
   ]
  },
  {
   "cell_type": "code",
   "execution_count": 8,
   "metadata": {},
   "outputs": [
    {
     "name": "stdout",
     "output_type": "stream",
     "text": [
      "Size of the training set:  (105286, 6)\n",
      "Size of the validation set:  (35096, 6)\n",
      "Size of the testing set:  (35096, 6)\n",
      "Training set: \n",
      "       date  global_radiation  max_temp  mean_temp  min_temp    season  \\\n",
      "0  20140118         -0.964176 -0.936402  -0.485069 -0.255725  1.247355   \n",
      "1  20130118         -1.091807 -2.050688  -2.015952 -1.740358  1.247355   \n",
      "2  20120626          0.961901  1.233524   1.164882  1.191322 -0.597754   \n",
      "3  20130515          0.138097  0.280516  -0.161883 -0.255725 -1.520309   \n",
      "4  20130704          0.985107  1.658713   1.266941  0.947015 -0.597754   \n",
      "\n",
      "        KWH  \n",
      "0 -0.598911  \n",
      "1  1.994852  \n",
      "2  0.043727  \n",
      "3 -1.030147  \n",
      "4  0.504522  \n",
      "\n",
      "Validation set:\n",
      "       date  global_radiation  max_temp  mean_temp  min_temp    season  \\\n",
      "0  20131116         -0.569678 -0.775123  -1.029383 -1.345709  0.324801   \n",
      "1  20130805          0.265729  1.130893   1.539098  1.736314 -0.597754   \n",
      "2  20121014          0.045274 -0.115349  -0.655167 -1.045024  0.324801   \n",
      "3  20130315         -0.639295 -0.819108  -0.961344 -1.063817 -1.520309   \n",
      "4  20130704          0.985107  1.658713   1.266941  0.947015 -0.597754   \n",
      "\n",
      "        KWH  \n",
      "0 -0.422322  \n",
      "1 -0.496330  \n",
      "2  0.703882  \n",
      "3  0.004425  \n",
      "4  0.429967  \n",
      "\n",
      "Test set:\n",
      "       date  global_radiation  max_temp  mean_temp  min_temp    season  \\\n",
      "0  20121217         -0.732118 -1.009710  -0.706197 -0.500032  1.247355   \n",
      "1  20131208         -0.859750 -0.540537  -0.553109 -0.650375  1.247355   \n",
      "2  20130717          1.611662  2.127886   2.338559  1.980620 -0.597754   \n",
      "3  20131206         -0.743721 -0.819108  -1.046393 -1.138988  1.247355   \n",
      "4  20120903          1.124341  1.482773   1.403020  1.266493  0.324801   \n",
      "\n",
      "        KWH  \n",
      "0 -0.597597  \n",
      "1 -0.455823  \n",
      "2 -1.108971  \n",
      "3 -0.540778  \n",
      "4 -0.669525  \n"
     ]
    }
   ],
   "source": [
    "from sklearn.model_selection import train_test_split\n",
    "\n",
    "X = df_rela[['date','global_radiation','max_temp','mean_temp','min_temp','season']]  \n",
    "y = df_rela[['KWH']]  \n",
    "\n",
    "\n",
    "X_train_val, X_test, y_train_val, y_test = train_test_split(X, y, test_size=0.2, random_state=42)\n",
    "\n",
    "\n",
    "X_train, X_val, y_train, y_val = train_test_split(X_train_val, y_train_val, test_size=0.25, random_state=42)\n",
    "\n",
    "\n",
    "print(\"Size of the training set: \", X_train.shape)\n",
    "print(\"Size of the validation set: \", X_val.shape)\n",
    "print(\"Size of the testing set: \", X_test.shape)\n",
    "\n",
    "\n",
    "train_data = pd.concat([X_train, y_train], axis=1)\n",
    "val_data = pd.concat([X_val, y_val], axis=1)\n",
    "test_data = pd.concat([X_test, y_test], axis=1)\n",
    "\n",
    "train_data.to_csv('train_rela.csv', index=False)\n",
    "val_data.to_csv('val_rela.csv', index=False)\n",
    "test_data.to_csv('test_rela.csv', index=False)\n",
    "\n",
    "\n",
    "train_df = pd.read_csv('train_rela.csv')\n",
    "val_df = pd.read_csv('val_rela.csv')\n",
    "test_df = pd.read_csv('test_rela.csv')\n",
    "\n",
    "\n",
    "print('Training set: ')\n",
    "print(train_df.head())\n",
    "print('\\nValidation set:')\n",
    "print(val_df.head())\n",
    "print('\\nTest set:')\n",
    "print(test_df.head())"
   ]
  },
  {
   "cell_type": "markdown",
   "metadata": {},
   "source": [
    "2.Baseline model - Moving average"
   ]
  },
  {
   "cell_type": "code",
   "execution_count": 9,
   "metadata": {},
   "outputs": [],
   "source": [
    "\n",
    "def moving_average(data, window_size):\n",
    "    averages = []\n",
    "    for i in range(len(data) - window_size + 1):\n",
    "        window = data[i:i + window_size]\n",
    "        average = np.mean(window)\n",
    "        averages.append(average)\n",
    "    return np.array(averages)\n",
    "\n",
    "\n",
    "window_size = 7\n",
    "\n",
    "\n",
    "X_train_ma = np.zeros((X_train.shape[0] - window_size + 1, X_train.shape[1]))\n",
    "for i in range(X_train.shape[1]):\n",
    "    X_train_ma[:, i] = moving_average(X_train.iloc[:, i], window_size)\n",
    "\n",
    "\n",
    "y_train_ma = moving_average(y_train['KWH'].values, window_size)\n",
    "\n",
    "class MovingAverageModel:\n",
    "    def __init__(self):\n",
    "        self.window_size = None\n",
    "        self.coefficients = None\n",
    "\n",
    "    def fit(self, X, y):\n",
    "        self.window_size = X.shape[1]\n",
    "        self.coefficients = np.linalg.lstsq(X, y, rcond=None)[0]\n",
    "\n",
    "    def predict(self, X):\n",
    "        return np.dot(X, self.coefficients)"
   ]
  },
  {
   "cell_type": "code",
   "execution_count": 10,
   "metadata": {},
   "outputs": [],
   "source": [
    "\n",
    "model_kwh = MovingAverageModel()\n",
    "model_kwh.fit(X_train_ma, y_train_ma)\n",
    "\n",
    "\n",
    "X_val_ma = np.zeros((X_val.shape[0] - window_size + 1, X_val.shape[1]))\n",
    "for i in range(X_val.shape[1]):\n",
    "    X_val_ma[:, i] = moving_average(X_val.iloc[:, i], window_size)\n",
    "\n",
    "y_val_ma = model_kwh.predict(X_val_ma)\n",
    "\n",
    "\n",
    "X_test_ma = np.zeros((X_test.shape[0] - window_size + 1, X_test.shape[1]))\n",
    "for i in range(X_test.shape[1]):\n",
    "    X_test_ma[:, i] = moving_average(X_test.iloc[:, i], window_size)\n",
    "\n",
    "y_test_ma = model_kwh.predict(X_test_ma)\n"
   ]
  },
  {
   "cell_type": "code",
   "execution_count": 11,
   "metadata": {},
   "outputs": [
    {
     "name": "stdout",
     "output_type": "stream",
     "text": [
      "RMSE of 'max_temp' in test set: 1.00\n",
      "MSE of 'max_temp' in test set: 1.01\n",
      "MAE of 'max_temp' in test set: 0.64\n",
      "R² of 'max_temp' in test set: 0.00\n"
     ]
    }
   ],
   "source": [
    "# evaluate\n",
    "from sklearn.metrics import mean_squared_error, mean_absolute_error, r2_score\n",
    "\n",
    "# RMSE\n",
    "mse_ma = mean_squared_error(y_test['KWH'].values[window_size - 1:], y_test_ma)\n",
    "\n",
    "\n",
    "# MSE\n",
    "mse_ma = mean_squared_error(y_test['KWH'].values[window_size - 1:], y_test_ma)\n",
    "\n",
    "# MAE\n",
    "mae_ma = mean_absolute_error(y_test['KWH'].values[window_size - 1:], y_test_ma)\n",
    "\n",
    "# R2\n",
    "r2_ma = r2_score(y_test['KWH'].values[window_size - 1:], y_test_ma)\n",
    "\n",
    "print(\"RMSE of 'max_temp' in test set: {:.2f}\".format(np.sqrt(mse_ma)))\n",
    "\n",
    "print(\"MSE of 'max_temp' in test set: {:.2f}\".format(mse_ma))\n",
    "\n",
    "print(\"MAE of 'max_temp' in test set: {:.2f}\".format(mae_ma))\n",
    "\n",
    "print(\"R² of 'max_temp' in test set: {:.2f}\".format(r2_ma))\n"
   ]
  },
  {
   "cell_type": "markdown",
   "metadata": {},
   "source": [
    "3.LSTM"
   ]
  },
  {
   "cell_type": "code",
   "execution_count": 12,
   "metadata": {},
   "outputs": [
    {
     "name": "stdout",
     "output_type": "stream",
     "text": [
      "Size of the training set: (105279, 7, 5) (105279, 1)\n",
      "Size of the validation set: (35089, 7, 5) (35089, 1)\n",
      "Size of the testing set: (35089, 7, 5) (35089, 1)\n"
     ]
    }
   ],
   "source": [
    "\n",
    "train_df_weather = train_df.sort_values('date')\n",
    "val_df_weather = val_df.sort_values('date')\n",
    "test_df_weather = test_df.sort_values('date')\n",
    "\n",
    "features = ['global_radiation','max_temp','mean_temp','min_temp','season']\n",
    "target = ['KWH']\n",
    "\n",
    "\n",
    "train_X_rnn = train_df[features].values\n",
    "train_y_rnn = train_df[target].values\n",
    "\n",
    "val_X_rnn = val_df[features].values\n",
    "val_y_rnn = val_df[target].values\n",
    "\n",
    "test_X_rnn = test_df[features].values\n",
    "test_y_rnn = test_df[target].values\n",
    "\n",
    "\n",
    "def create_time_series(X, y, time_steps=7):\n",
    "    Xs, ys = [], []\n",
    "    for i in range(len(X) - time_steps):\n",
    "        Xs.append(X[i:(i + time_steps)])\n",
    "        ys.append(y[i + time_steps])\n",
    "    return np.array(Xs), np.array(ys)\n",
    "\n",
    "\n",
    "time_steps = 7\n",
    "X_train_rnn, y_train_rnn = create_time_series(train_X_rnn, train_y_rnn, time_steps)\n",
    "X_val_rnn, y_val_rnn = create_time_series(val_X_rnn, val_y_rnn, time_steps)\n",
    "X_test_rnn, y_test_rnn = create_time_series(test_X_rnn, test_y_rnn, time_steps)\n",
    "\n",
    "print(\"Size of the training set:\", X_train_rnn.shape, y_train_rnn.shape)\n",
    "print(\"Size of the validation set:\", X_val_rnn.shape, y_val_rnn.shape)\n",
    "print(\"Size of the testing set:\", X_test_rnn.shape, y_test_rnn.shape)"
   ]
  },
  {
   "cell_type": "code",
   "execution_count": 13,
   "metadata": {},
   "outputs": [
    {
     "name": "stderr",
     "output_type": "stream",
     "text": [
      "c:\\Users\\Administrator\\AppData\\Local\\Programs\\Python\\Python39\\lib\\site-packages\\keras\\src\\layers\\rnn\\rnn.py:204: UserWarning: Do not pass an `input_shape`/`input_dim` argument to a layer. When using Sequential models, prefer using an `Input(shape)` object as the first layer in the model instead.\n",
      "  super().__init__(**kwargs)\n"
     ]
    },
    {
     "data": {
      "text/html": [
       "<pre style=\"white-space:pre;overflow-x:auto;line-height:normal;font-family:Menlo,'DejaVu Sans Mono',consolas,'Courier New',monospace\"><span style=\"font-weight: bold\">Model: \"sequential\"</span>\n",
       "</pre>\n"
      ],
      "text/plain": [
       "\u001b[1mModel: \"sequential\"\u001b[0m\n"
      ]
     },
     "metadata": {},
     "output_type": "display_data"
    },
    {
     "data": {
      "text/html": [
       "<pre style=\"white-space:pre;overflow-x:auto;line-height:normal;font-family:Menlo,'DejaVu Sans Mono',consolas,'Courier New',monospace\">┏━━━━━━━━━━━━━━━━━━━━━━━━━━━━━━━━━┳━━━━━━━━━━━━━━━━━━━━━━━━┳━━━━━━━━━━━━━━━┓\n",
       "┃<span style=\"font-weight: bold\"> Layer (type)                    </span>┃<span style=\"font-weight: bold\"> Output Shape           </span>┃<span style=\"font-weight: bold\">       Param # </span>┃\n",
       "┡━━━━━━━━━━━━━━━━━━━━━━━━━━━━━━━━━╇━━━━━━━━━━━━━━━━━━━━━━━━╇━━━━━━━━━━━━━━━┩\n",
       "│ lstm (<span style=\"color: #0087ff; text-decoration-color: #0087ff\">LSTM</span>)                     │ (<span style=\"color: #00d7ff; text-decoration-color: #00d7ff\">None</span>, <span style=\"color: #00af00; text-decoration-color: #00af00\">50</span>)             │        <span style=\"color: #00af00; text-decoration-color: #00af00\">11,200</span> │\n",
       "├─────────────────────────────────┼────────────────────────┼───────────────┤\n",
       "│ dense (<span style=\"color: #0087ff; text-decoration-color: #0087ff\">Dense</span>)                   │ (<span style=\"color: #00d7ff; text-decoration-color: #00d7ff\">None</span>, <span style=\"color: #00af00; text-decoration-color: #00af00\">2</span>)              │           <span style=\"color: #00af00; text-decoration-color: #00af00\">102</span> │\n",
       "└─────────────────────────────────┴────────────────────────┴───────────────┘\n",
       "</pre>\n"
      ],
      "text/plain": [
       "┏━━━━━━━━━━━━━━━━━━━━━━━━━━━━━━━━━┳━━━━━━━━━━━━━━━━━━━━━━━━┳━━━━━━━━━━━━━━━┓\n",
       "┃\u001b[1m \u001b[0m\u001b[1mLayer (type)                   \u001b[0m\u001b[1m \u001b[0m┃\u001b[1m \u001b[0m\u001b[1mOutput Shape          \u001b[0m\u001b[1m \u001b[0m┃\u001b[1m \u001b[0m\u001b[1m      Param #\u001b[0m\u001b[1m \u001b[0m┃\n",
       "┡━━━━━━━━━━━━━━━━━━━━━━━━━━━━━━━━━╇━━━━━━━━━━━━━━━━━━━━━━━━╇━━━━━━━━━━━━━━━┩\n",
       "│ lstm (\u001b[38;5;33mLSTM\u001b[0m)                     │ (\u001b[38;5;45mNone\u001b[0m, \u001b[38;5;34m50\u001b[0m)             │        \u001b[38;5;34m11,200\u001b[0m │\n",
       "├─────────────────────────────────┼────────────────────────┼───────────────┤\n",
       "│ dense (\u001b[38;5;33mDense\u001b[0m)                   │ (\u001b[38;5;45mNone\u001b[0m, \u001b[38;5;34m2\u001b[0m)              │           \u001b[38;5;34m102\u001b[0m │\n",
       "└─────────────────────────────────┴────────────────────────┴───────────────┘\n"
      ]
     },
     "metadata": {},
     "output_type": "display_data"
    },
    {
     "data": {
      "text/html": [
       "<pre style=\"white-space:pre;overflow-x:auto;line-height:normal;font-family:Menlo,'DejaVu Sans Mono',consolas,'Courier New',monospace\"><span style=\"font-weight: bold\"> Total params: </span><span style=\"color: #00af00; text-decoration-color: #00af00\">11,302</span> (44.15 KB)\n",
       "</pre>\n"
      ],
      "text/plain": [
       "\u001b[1m Total params: \u001b[0m\u001b[38;5;34m11,302\u001b[0m (44.15 KB)\n"
      ]
     },
     "metadata": {},
     "output_type": "display_data"
    },
    {
     "data": {
      "text/html": [
       "<pre style=\"white-space:pre;overflow-x:auto;line-height:normal;font-family:Menlo,'DejaVu Sans Mono',consolas,'Courier New',monospace\"><span style=\"font-weight: bold\"> Trainable params: </span><span style=\"color: #00af00; text-decoration-color: #00af00\">11,302</span> (44.15 KB)\n",
       "</pre>\n"
      ],
      "text/plain": [
       "\u001b[1m Trainable params: \u001b[0m\u001b[38;5;34m11,302\u001b[0m (44.15 KB)\n"
      ]
     },
     "metadata": {},
     "output_type": "display_data"
    },
    {
     "data": {
      "text/html": [
       "<pre style=\"white-space:pre;overflow-x:auto;line-height:normal;font-family:Menlo,'DejaVu Sans Mono',consolas,'Courier New',monospace\"><span style=\"font-weight: bold\"> Non-trainable params: </span><span style=\"color: #00af00; text-decoration-color: #00af00\">0</span> (0.00 B)\n",
       "</pre>\n"
      ],
      "text/plain": [
       "\u001b[1m Non-trainable params: \u001b[0m\u001b[38;5;34m0\u001b[0m (0.00 B)\n"
      ]
     },
     "metadata": {},
     "output_type": "display_data"
    }
   ],
   "source": [
    "from tensorflow.keras.models import Sequential\n",
    "from tensorflow.keras.layers import Dense, LSTM\n",
    "\n",
    "# build\n",
    "model = Sequential()\n",
    "model.add(LSTM(50, activation='relu', input_shape=(time_steps, len(features))))\n",
    "model.add(Dense(2)) \n",
    "\n",
    "model.compile(optimizer='adam', loss='mse', run_eagerly=True)\n",
    "model.summary()\n",
    "\n"
   ]
  },
  {
   "cell_type": "code",
   "execution_count": 14,
   "metadata": {},
   "outputs": [
    {
     "name": "stdout",
     "output_type": "stream",
     "text": [
      "Epoch 1/50\n",
      "\u001b[1m3290/3290\u001b[0m \u001b[32m━━━━━━━━━━━━━━━━━━━━\u001b[0m\u001b[37m\u001b[0m \u001b[1m194s\u001b[0m 59ms/step - loss: 0.9561 - val_loss: 1.0560\n",
      "Epoch 2/50\n",
      "\u001b[1m3290/3290\u001b[0m \u001b[32m━━━━━━━━━━━━━━━━━━━━\u001b[0m\u001b[37m\u001b[0m \u001b[1m184s\u001b[0m 56ms/step - loss: 0.9974 - val_loss: 1.0559\n",
      "Epoch 3/50\n",
      "\u001b[1m3290/3290\u001b[0m \u001b[32m━━━━━━━━━━━━━━━━━━━━\u001b[0m\u001b[37m\u001b[0m \u001b[1m194s\u001b[0m 59ms/step - loss: 0.9738 - val_loss: 1.0567\n",
      "Epoch 4/50\n",
      "\u001b[1m3290/3290\u001b[0m \u001b[32m━━━━━━━━━━━━━━━━━━━━\u001b[0m\u001b[37m\u001b[0m \u001b[1m181s\u001b[0m 55ms/step - loss: 0.9864 - val_loss: 1.0559\n",
      "Epoch 5/50\n",
      "\u001b[1m3290/3290\u001b[0m \u001b[32m━━━━━━━━━━━━━━━━━━━━\u001b[0m\u001b[37m\u001b[0m \u001b[1m181s\u001b[0m 55ms/step - loss: 0.9770 - val_loss: 1.0562\n",
      "Epoch 6/50\n",
      "\u001b[1m3290/3290\u001b[0m \u001b[32m━━━━━━━━━━━━━━━━━━━━\u001b[0m\u001b[37m\u001b[0m \u001b[1m181s\u001b[0m 55ms/step - loss: 0.9528 - val_loss: 1.0559\n",
      "Epoch 7/50\n",
      "\u001b[1m3290/3290\u001b[0m \u001b[32m━━━━━━━━━━━━━━━━━━━━\u001b[0m\u001b[37m\u001b[0m \u001b[1m186s\u001b[0m 57ms/step - loss: 0.9538 - val_loss: 1.0562\n",
      "Epoch 8/50\n",
      "\u001b[1m3290/3290\u001b[0m \u001b[32m━━━━━━━━━━━━━━━━━━━━\u001b[0m\u001b[37m\u001b[0m \u001b[1m182s\u001b[0m 55ms/step - loss: 0.9866 - val_loss: 1.0562\n",
      "Epoch 9/50\n",
      "\u001b[1m3290/3290\u001b[0m \u001b[32m━━━━━━━━━━━━━━━━━━━━\u001b[0m\u001b[37m\u001b[0m \u001b[1m179s\u001b[0m 55ms/step - loss: 1.0053 - val_loss: 1.0561\n",
      "Epoch 10/50\n",
      "\u001b[1m3290/3290\u001b[0m \u001b[32m━━━━━━━━━━━━━━━━━━━━\u001b[0m\u001b[37m\u001b[0m \u001b[1m179s\u001b[0m 54ms/step - loss: 0.9723 - val_loss: 1.0567\n",
      "Epoch 11/50\n",
      "\u001b[1m3290/3290\u001b[0m \u001b[32m━━━━━━━━━━━━━━━━━━━━\u001b[0m\u001b[37m\u001b[0m \u001b[1m178s\u001b[0m 54ms/step - loss: 1.0000 - val_loss: 1.0565\n",
      "Epoch 12/50\n",
      "\u001b[1m3290/3290\u001b[0m \u001b[32m━━━━━━━━━━━━━━━━━━━━\u001b[0m\u001b[37m\u001b[0m \u001b[1m179s\u001b[0m 54ms/step - loss: 0.9790 - val_loss: 1.0563\n",
      "Epoch 13/50\n",
      "\u001b[1m3290/3290\u001b[0m \u001b[32m━━━━━━━━━━━━━━━━━━━━\u001b[0m\u001b[37m\u001b[0m \u001b[1m189s\u001b[0m 57ms/step - loss: 0.9699 - val_loss: 1.0567\n",
      "Epoch 14/50\n",
      "\u001b[1m3290/3290\u001b[0m \u001b[32m━━━━━━━━━━━━━━━━━━━━\u001b[0m\u001b[37m\u001b[0m \u001b[1m185s\u001b[0m 56ms/step - loss: 0.9900 - val_loss: 1.0578\n",
      "Epoch 15/50\n",
      "\u001b[1m3290/3290\u001b[0m \u001b[32m━━━━━━━━━━━━━━━━━━━━\u001b[0m\u001b[37m\u001b[0m \u001b[1m184s\u001b[0m 56ms/step - loss: 0.9762 - val_loss: 1.0570\n",
      "Epoch 16/50\n",
      "\u001b[1m3290/3290\u001b[0m \u001b[32m━━━━━━━━━━━━━━━━━━━━\u001b[0m\u001b[37m\u001b[0m \u001b[1m189s\u001b[0m 58ms/step - loss: 0.9732 - val_loss: 1.0576\n",
      "Epoch 17/50\n",
      "\u001b[1m3290/3290\u001b[0m \u001b[32m━━━━━━━━━━━━━━━━━━━━\u001b[0m\u001b[37m\u001b[0m \u001b[1m191s\u001b[0m 58ms/step - loss: 0.9790 - val_loss: 1.0584\n",
      "Epoch 18/50\n",
      "\u001b[1m3290/3290\u001b[0m \u001b[32m━━━━━━━━━━━━━━━━━━━━\u001b[0m\u001b[37m\u001b[0m \u001b[1m189s\u001b[0m 57ms/step - loss: 0.9971 - val_loss: 1.0586\n",
      "Epoch 19/50\n",
      "\u001b[1m3290/3290\u001b[0m \u001b[32m━━━━━━━━━━━━━━━━━━━━\u001b[0m\u001b[37m\u001b[0m \u001b[1m185s\u001b[0m 56ms/step - loss: 0.9776 - val_loss: 1.0586\n",
      "Epoch 20/50\n",
      "\u001b[1m3290/3290\u001b[0m \u001b[32m━━━━━━━━━━━━━━━━━━━━\u001b[0m\u001b[37m\u001b[0m \u001b[1m179s\u001b[0m 54ms/step - loss: 0.9739 - val_loss: 1.0604\n",
      "Epoch 21/50\n",
      "\u001b[1m3290/3290\u001b[0m \u001b[32m━━━━━━━━━━━━━━━━━━━━\u001b[0m\u001b[37m\u001b[0m \u001b[1m177s\u001b[0m 54ms/step - loss: 0.9848 - val_loss: 1.0604\n",
      "Epoch 22/50\n",
      "\u001b[1m3290/3290\u001b[0m \u001b[32m━━━━━━━━━━━━━━━━━━━━\u001b[0m\u001b[37m\u001b[0m \u001b[1m188s\u001b[0m 57ms/step - loss: 1.0210 - val_loss: 1.0601\n",
      "Epoch 23/50\n",
      "\u001b[1m3290/3290\u001b[0m \u001b[32m━━━━━━━━━━━━━━━━━━━━\u001b[0m\u001b[37m\u001b[0m \u001b[1m190s\u001b[0m 58ms/step - loss: 0.9516 - val_loss: 1.0614\n",
      "Epoch 24/50\n",
      "\u001b[1m3290/3290\u001b[0m \u001b[32m━━━━━━━━━━━━━━━━━━━━\u001b[0m\u001b[37m\u001b[0m \u001b[1m186s\u001b[0m 57ms/step - loss: 0.9543 - val_loss: 1.0626\n",
      "Epoch 25/50\n",
      "\u001b[1m3290/3290\u001b[0m \u001b[32m━━━━━━━━━━━━━━━━━━━━\u001b[0m\u001b[37m\u001b[0m \u001b[1m186s\u001b[0m 57ms/step - loss: 0.9612 - val_loss: 1.0627\n",
      "Epoch 26/50\n",
      "\u001b[1m3290/3290\u001b[0m \u001b[32m━━━━━━━━━━━━━━━━━━━━\u001b[0m\u001b[37m\u001b[0m \u001b[1m190s\u001b[0m 58ms/step - loss: 0.9588 - val_loss: 1.0627\n",
      "Epoch 27/50\n",
      "\u001b[1m3290/3290\u001b[0m \u001b[32m━━━━━━━━━━━━━━━━━━━━\u001b[0m\u001b[37m\u001b[0m \u001b[1m185s\u001b[0m 56ms/step - loss: 0.9676 - val_loss: 1.0655\n",
      "Epoch 28/50\n",
      "\u001b[1m3290/3290\u001b[0m \u001b[32m━━━━━━━━━━━━━━━━━━━━\u001b[0m\u001b[37m\u001b[0m \u001b[1m186s\u001b[0m 57ms/step - loss: 0.9746 - val_loss: 1.0635\n",
      "Epoch 29/50\n",
      "\u001b[1m3290/3290\u001b[0m \u001b[32m━━━━━━━━━━━━━━━━━━━━\u001b[0m\u001b[37m\u001b[0m \u001b[1m194s\u001b[0m 59ms/step - loss: 0.9716 - val_loss: 1.0650\n",
      "Epoch 30/50\n",
      "\u001b[1m3290/3290\u001b[0m \u001b[32m━━━━━━━━━━━━━━━━━━━━\u001b[0m\u001b[37m\u001b[0m \u001b[1m188s\u001b[0m 57ms/step - loss: 0.9386 - val_loss: 1.0660\n",
      "Epoch 31/50\n",
      "\u001b[1m3290/3290\u001b[0m \u001b[32m━━━━━━━━━━━━━━━━━━━━\u001b[0m\u001b[37m\u001b[0m \u001b[1m194s\u001b[0m 59ms/step - loss: 0.9514 - val_loss: 1.0675\n",
      "Epoch 32/50\n",
      "\u001b[1m3290/3290\u001b[0m \u001b[32m━━━━━━━━━━━━━━━━━━━━\u001b[0m\u001b[37m\u001b[0m \u001b[1m192s\u001b[0m 58ms/step - loss: 0.9681 - val_loss: 1.0691\n",
      "Epoch 33/50\n",
      "\u001b[1m3290/3290\u001b[0m \u001b[32m━━━━━━━━━━━━━━━━━━━━\u001b[0m\u001b[37m\u001b[0m \u001b[1m191s\u001b[0m 58ms/step - loss: 0.9730 - val_loss: 1.0683\n",
      "Epoch 34/50\n",
      "\u001b[1m3290/3290\u001b[0m \u001b[32m━━━━━━━━━━━━━━━━━━━━\u001b[0m\u001b[37m\u001b[0m \u001b[1m188s\u001b[0m 57ms/step - loss: 0.9814 - val_loss: 1.0693\n",
      "Epoch 35/50\n",
      "\u001b[1m3290/3290\u001b[0m \u001b[32m━━━━━━━━━━━━━━━━━━━━\u001b[0m\u001b[37m\u001b[0m \u001b[1m187s\u001b[0m 57ms/step - loss: 0.9726 - val_loss: 1.0724\n",
      "Epoch 36/50\n",
      "\u001b[1m3290/3290\u001b[0m \u001b[32m━━━━━━━━━━━━━━━━━━━━\u001b[0m\u001b[37m\u001b[0m \u001b[1m179s\u001b[0m 54ms/step - loss: 0.9331 - val_loss: 1.0767\n",
      "Epoch 37/50\n",
      "\u001b[1m3290/3290\u001b[0m \u001b[32m━━━━━━━━━━━━━━━━━━━━\u001b[0m\u001b[37m\u001b[0m \u001b[1m185s\u001b[0m 56ms/step - loss: 0.9114 - val_loss: 1.0775\n",
      "Epoch 38/50\n",
      "\u001b[1m3290/3290\u001b[0m \u001b[32m━━━━━━━━━━━━━━━━━━━━\u001b[0m\u001b[37m\u001b[0m \u001b[1m183s\u001b[0m 56ms/step - loss: 0.9580 - val_loss: 1.0733\n",
      "Epoch 39/50\n",
      "\u001b[1m3290/3290\u001b[0m \u001b[32m━━━━━━━━━━━━━━━━━━━━\u001b[0m\u001b[37m\u001b[0m \u001b[1m181s\u001b[0m 55ms/step - loss: 0.9629 - val_loss: 1.0783\n",
      "Epoch 40/50\n",
      "\u001b[1m3290/3290\u001b[0m \u001b[32m━━━━━━━━━━━━━━━━━━━━\u001b[0m\u001b[37m\u001b[0m \u001b[1m179s\u001b[0m 54ms/step - loss: 0.9612 - val_loss: 1.0811\n",
      "Epoch 41/50\n",
      "\u001b[1m3290/3290\u001b[0m \u001b[32m━━━━━━━━━━━━━━━━━━━━\u001b[0m\u001b[37m\u001b[0m \u001b[1m191s\u001b[0m 58ms/step - loss: 0.9653 - val_loss: 1.0832\n",
      "Epoch 42/50\n",
      "\u001b[1m3290/3290\u001b[0m \u001b[32m━━━━━━━━━━━━━━━━━━━━\u001b[0m\u001b[37m\u001b[0m \u001b[1m194s\u001b[0m 59ms/step - loss: 0.9570 - val_loss: 1.0853\n",
      "Epoch 43/50\n",
      "\u001b[1m3290/3290\u001b[0m \u001b[32m━━━━━━━━━━━━━━━━━━━━\u001b[0m\u001b[37m\u001b[0m \u001b[1m190s\u001b[0m 58ms/step - loss: 0.9514 - val_loss: 1.0873\n",
      "Epoch 44/50\n",
      "\u001b[1m3290/3290\u001b[0m \u001b[32m━━━━━━━━━━━━━━━━━━━━\u001b[0m\u001b[37m\u001b[0m \u001b[1m178s\u001b[0m 54ms/step - loss: 0.9538 - val_loss: 1.0884\n",
      "Epoch 45/50\n",
      "\u001b[1m3290/3290\u001b[0m \u001b[32m━━━━━━━━━━━━━━━━━━━━\u001b[0m\u001b[37m\u001b[0m \u001b[1m178s\u001b[0m 54ms/step - loss: 0.9304 - val_loss: 1.0905\n",
      "Epoch 46/50\n",
      "\u001b[1m3290/3290\u001b[0m \u001b[32m━━━━━━━━━━━━━━━━━━━━\u001b[0m\u001b[37m\u001b[0m \u001b[1m178s\u001b[0m 54ms/step - loss: 0.9297 - val_loss: 1.0875\n",
      "Epoch 47/50\n",
      "\u001b[1m3290/3290\u001b[0m \u001b[32m━━━━━━━━━━━━━━━━━━━━\u001b[0m\u001b[37m\u001b[0m \u001b[1m178s\u001b[0m 54ms/step - loss: 0.9177 - val_loss: 1.0967\n",
      "Epoch 48/50\n",
      "\u001b[1m3290/3290\u001b[0m \u001b[32m━━━━━━━━━━━━━━━━━━━━\u001b[0m\u001b[37m\u001b[0m \u001b[1m179s\u001b[0m 54ms/step - loss: 0.9260 - val_loss: 1.0955\n",
      "Epoch 49/50\n",
      "\u001b[1m3290/3290\u001b[0m \u001b[32m━━━━━━━━━━━━━━━━━━━━\u001b[0m\u001b[37m\u001b[0m \u001b[1m178s\u001b[0m 54ms/step - loss: 0.9212 - val_loss: 1.0999\n",
      "Epoch 50/50\n",
      "\u001b[1m3290/3290\u001b[0m \u001b[32m━━━━━━━━━━━━━━━━━━━━\u001b[0m\u001b[37m\u001b[0m \u001b[1m179s\u001b[0m 54ms/step - loss: 0.9335 - val_loss: 1.0975\n"
     ]
    }
   ],
   "source": [
    "\n",
    "history = model.fit(X_train_rnn, y_train_rnn, epochs=50, batch_size=32, validation_data=(X_val_rnn, y_val_rnn))"
   ]
  },
  {
   "cell_type": "code",
   "execution_count": 15,
   "metadata": {},
   "outputs": [
    {
     "name": "stderr",
     "output_type": "stream",
     "text": [
      "WARNING:absl:You are saving your model as an HDF5 file via `model.save()` or `keras.saving.save_model(model)`. This file format is considered legacy. We recommend using instead the native Keras format, e.g. `model.save('my_model.keras')` or `keras.saving.save_model(model, 'my_model.keras')`. \n"
     ]
    }
   ],
   "source": [
    "\n",
    "model.save('rnn_rela_model.h5')\n"
   ]
  },
  {
   "cell_type": "code",
   "execution_count": 16,
   "metadata": {},
   "outputs": [
    {
     "name": "stdout",
     "output_type": "stream",
     "text": [
      "\u001b[1m1097/1097\u001b[0m \u001b[32m━━━━━━━━━━━━━━━━━━━━\u001b[0m\u001b[37m\u001b[0m \u001b[1m23s\u001b[0m 21ms/step - loss: 1.0245\n",
      "The loss in testing set: 1.052756428718567\n"
     ]
    },
    {
     "data": {
      "image/png": "[encoded data removed]",
      "text/plain": [
       "<Figure size 640x480 with 1 Axes>"
      ]
     },
     "metadata": {},
     "output_type": "display_data"
    }
   ],
   "source": [
    "import matplotlib.pyplot as plt\n",
    "\n",
    "loss = model.evaluate(X_test_rnn, y_test_rnn)\n",
    "print('The loss in testing set:', loss)\n",
    "\n",
    "plt.plot(history.history['loss'], label='Training Loss')\n",
    "plt.plot(history.history['val_loss'], label='Validation Loss')\n",
    "plt.title('Training and Validation Loss')\n",
    "plt.xlabel('Epochs')\n",
    "plt.ylabel('Loss')\n",
    "plt.legend()\n",
    "plt.show()"
   ]
  },
  {
   "cell_type": "code",
   "execution_count": 17,
   "metadata": {},
   "outputs": [
    {
     "name": "stdout",
     "output_type": "stream",
     "text": [
      "\u001b[1m1097/1097\u001b[0m \u001b[32m━━━━━━━━━━━━━━━━━━━━\u001b[0m\u001b[37m\u001b[0m \u001b[1m20s\u001b[0m 18ms/step\n",
      "\u001b[1m1097/1097\u001b[0m \u001b[32m━━━━━━━━━━━━━━━━━━━━\u001b[0m\u001b[37m\u001b[0m \u001b[1m20s\u001b[0m 18ms/step\n",
      "RMSE of 'max_temp' in test set: 1.0260319574598435\n",
      "MSE of 'max_temp' in test set: 1.052741577728878\n",
      "MAE of 'max_temp' in test set: 0.662036880341656\n",
      "R² of 'max_temp' in test set: -0.039245555446874913\n"
     ]
    }
   ],
   "source": [
    "\n",
    "y_val_pred_rnn = model.predict(X_val_rnn)\n",
    "y_test_pred_rnn = model.predict(X_test_rnn)\n",
    "\n",
    "# RMSE\n",
    "rmse_rnn = np.sqrt(mean_squared_error(y_test_rnn[:, 0], y_test_pred_rnn[:, 0]))\n",
    "\n",
    "# MSE\n",
    "mse_rnn = mean_squared_error(y_test_rnn[:, 0], y_test_pred_rnn[:, 0])\n",
    "\n",
    "# MAE\n",
    "mae_rnn = mean_absolute_error(y_test_rnn[:, 0], y_test_pred_rnn[:, 0])\n",
    "\n",
    "# R²\n",
    "r2_rnn = r2_score(y_test_rnn[:, 0], y_test_pred_rnn[:, 0])\n",
    "\n",
    "print(f\"RMSE of 'max_temp' in test set: {rmse_rnn}\")\n",
    "\n",
    "print(f\"MSE of 'max_temp' in test set: {mse_rnn}\")\n",
    "\n",
    "print(f\"MAE of 'max_temp' in test set: {mae_rnn}\")\n",
    "\n",
    "print(f\"R² of 'max_temp' in test set: {r2_rnn}\")"
   ]
  },
  {
   "cell_type": "code",
   "execution_count": 18,
   "metadata": {},
   "outputs": [
    {
     "name": "stdout",
     "output_type": "stream",
     "text": [
      "\u001b[1m1097/1097\u001b[0m \u001b[32m━━━━━━━━━━━━━━━━━━━━\u001b[0m\u001b[37m\u001b[0m \u001b[1m20s\u001b[0m 18ms/step\n",
      "Feature: global_radiation, Importance: -0.0009821050771102514\n",
      "Feature: max_temp, Importance: 0.004798769779830292\n",
      "Feature: mean_temp, Importance: 0.008655674404808167\n",
      "Feature: min_temp, Importance: 0.0030254968340603485\n",
      "Feature: season, Importance: 0.008345191177486111\n"
     ]
    }
   ],
   "source": [
    "# Permutation Feature Importance\n",
    "from sklearn.inspection import permutation_importance\n",
    "\n",
    "X_test_rnn_reshaped = X_test_rnn.reshape(X_test_rnn.shape[0], -1)\n",
    "\n",
    "def custom_scoring(estimator, X, y):\n",
    "    X_reshaped = X.reshape(-1, time_steps, len(features))\n",
    "    y_pred = estimator.predict(X_reshaped)\n",
    "    return -np.mean((y_pred - y) ** 2)\n",
    "\n",
    "\n",
    "result_rnn = permutation_importance(estimator=model, X=X_test_rnn_reshaped, y=y_test_rnn, n_repeats=10, random_state=42, scoring=custom_scoring, n_jobs=-1)\n",
    "for i in range(len(features)):\n",
    "    print(f\"Feature: {features[i]}, Importance: {result_rnn.importances_mean[i]}\")"
   ]
  }
 ],
 "metadata": {
  "kernelspec": {
   "display_name": "Python 3",
   "language": "python",
   "name": "python3"
  },
  "language_info": {
   "codemirror_mode": {
    "name": "ipython",
    "version": 3
   },
   "file_extension": ".py",
   "mimetype": "text/x-python",
   "name": "python",
   "nbconvert_exporter": "python",
   "pygments_lexer": "ipython3",
   "version": "3.9.13"
  },
  "orig_nbformat": 4
 },
 "nbformat": 4,
 "nbformat_minor": 2
}
