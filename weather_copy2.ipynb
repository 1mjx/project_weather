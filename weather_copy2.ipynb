{
 "cells": [
  {
   "cell_type": "markdown",
   "metadata": {},
   "source": [
    "天气预报模型"
   ]
  },
  {
   "cell_type": "markdown",
   "metadata": {},
   "source": [
    "1.数据预处理"
   ]
  },
  {
   "cell_type": "code",
   "execution_count": 21,
   "metadata": {},
   "outputs": [
    {
     "name": "stdout",
     "output_type": "stream",
     "text": [
      "       date  cloud_cover  sunshine  global_radiation  max_temp  mean_temp  \\\n",
      "0  19790101          2.0       7.0              52.0       2.3       -4.1   \n",
      "1  19790102          6.0       1.7              27.0       1.6       -2.6   \n",
      "2  19790103          5.0       0.0              13.0       1.3       -2.8   \n",
      "3  19790104          8.0       0.0              13.0      -0.3       -2.6   \n",
      "4  19790105          6.0       2.0              29.0       5.6       -0.8   \n",
      "\n",
      "   min_temp  precipitation  pressure  snow_depth  \n",
      "0      -7.5            0.4  101900.0         9.0  \n",
      "1      -7.5            0.0  102530.0         8.0  \n",
      "2      -7.2            0.0  102050.0         4.0  \n",
      "3      -6.5            0.0  100840.0         2.0  \n",
      "4      -1.4            0.0  102250.0         1.0  \n"
     ]
    }
   ],
   "source": [
    "import pandas as pd\n",
    "\n",
    "# 读取CSV文件\n",
    "df_weather = pd.read_csv('data_weather.csv')\n",
    "\n",
    "# 显示数据\n",
    "print(df_weather.head())"
   ]
  },
  {
   "cell_type": "markdown",
   "metadata": {},
   "source": []
  },
  {
   "cell_type": "code",
   "execution_count": 2,
   "metadata": {},
   "outputs": [
    {
     "name": "stdout",
     "output_type": "stream",
     "text": [
      "\\duplicate date:\n",
      "Empty DataFrame\n",
      "Columns: [date, cloud_cover, sunshine, global_radiation, max_temp, mean_temp, min_temp, precipitation, pressure, snow_depth]\n",
      "Index: []\n",
      "\\The data that precipitation is negative\n",
      "Empty DataFrame\n",
      "Columns: [date, cloud_cover, sunshine, global_radiation, max_temp, mean_temp, min_temp, precipitation, pressure, snow_depth]\n",
      "Index: []\n",
      "\\The data that snow depth is negative\n",
      "Empty DataFrame\n",
      "Columns: [date, cloud_cover, sunshine, global_radiation, max_temp, mean_temp, min_temp, precipitation, pressure, snow_depth]\n",
      "Index: []\n",
      "特征的3倍标准差阈值:\n",
      "cloud_cover: 3.0000977819788064\n",
      "sunshine: 3.0000977819788073\n",
      "global_radiation: 3.0000977819788073\n",
      "max_temp: 3.0000977819788073\n",
      "mean_temp: 3.000097781978808\n",
      "min_temp: 3.0000977819788073\n",
      "precipitation: 3.0000977819788073\n",
      "pressure: 3.000097781978808\n",
      "snow_depth: 3.000097781978808\n",
      "diff_temp: 3.0000977819788073\n",
      "       date  cloud_cover  sunshine  global_radiation  max_temp  mean_temp  \\\n",
      "0  19790101    -1.579618  0.657802         -0.752136 -1.996772  -2.718962   \n",
      "1  19790102     0.353314 -0.657920         -1.033264 -2.103549  -2.457114   \n",
      "2  19790103    -0.129919 -1.079944         -1.190696 -2.149310  -2.492027   \n",
      "\n",
      "   min_temp  precipitation  pressure    snow_depth  diff_temp  \n",
      "0 -2.827491      -0.339317  0.346207  5.557990e-18   0.512994  \n",
      "1 -2.827491      -0.446330  0.946409  5.557990e-18   0.330668  \n",
      "2 -2.771166      -0.446330  0.489112  5.557990e-18   0.174389  \n"
     ]
    }
   ],
   "source": [
    "from sklearn.preprocessing import StandardScaler\n",
    "\n",
    "# 使用线性插值填补缺失值\n",
    "df_weather['date'] = df_weather['date'].interpolate(method='linear')\n",
    "df_weather['cloud_cover'] = df_weather['cloud_cover'].interpolate(method='linear')\n",
    "df_weather['sunshine'] = df_weather['sunshine'].interpolate(method='linear')\n",
    "df_weather['global_radiation'] = df_weather['global_radiation'].interpolate(method='linear')\n",
    "df_weather['max_temp'] = df_weather['max_temp'].interpolate(method='linear')\n",
    "df_weather['mean_temp'] = df_weather['mean_temp'].interpolate(method='linear')\n",
    "df_weather['min_temp'] = df_weather['min_temp'].interpolate(method='linear')\n",
    "df_weather['precipitation'] = df_weather['precipitation'].interpolate(method='linear')\n",
    "df_weather['pressure'] = df_weather['pressure'].interpolate(method='linear')\n",
    "df_weather['snow_depth'] = df_weather['snow_depth'].interpolate(method='linear')\n",
    "\n",
    "# 检查重复记录-无\n",
    "duplicates = df_weather[df_weather.duplicated(subset=['date'])]\n",
    "print('\\duplicate date:')\n",
    "print(duplicates)\n",
    "\n",
    "# 查看并删除降水量、降雪量为负的数据-无\n",
    "negative_precipitation = df_weather[df_weather['precipitation']< 0]\n",
    "negative_snow_depth = df_weather[df_weather['snow_depth']< 0]\n",
    "print('\\The data that precipitation is negative')\n",
    "print(negative_precipitation)\n",
    "print('\\The data that snow depth is negative')\n",
    "print(negative_snow_depth)\n",
    "\n",
    "# 插入新列“温差”\n",
    "df_weather['diff_temp'] = df_weather['max_temp'] - df_weather['min_temp']\n",
    "df_weather = df_weather\n",
    "\n",
    "# Z-score标准化\n",
    "features = ['cloud_cover', 'sunshine', 'global_radiation', 'max_temp',\n",
    "             'mean_temp', 'min_temp','precipitation', 'pressure', \n",
    "             'snow_depth','diff_temp']\n",
    "scaler = StandardScaler()\n",
    "df_weather[features] = scaler.fit_transform(df_weather[features])  # 对每个特征减去均值，然后除以标准差\n",
    "\n",
    "# 计算Z-score\n",
    "for feature in features:\n",
    "     mean = scaler.mean_[features.index(feature)]  # 使用标准化后的均值 \n",
    "     std = scaler.scale_[features.index(feature)]  # 使用标准化后的标准差\n",
    "     df_weather[feature + '_zscore'] = (df_weather[feature] - mean) / std #插入特征的zscore作为列\n",
    "\n",
    "\n",
    "# 定义阈值\n",
    "# 计算每个特征的3倍标准差作为阈值\n",
    "thresholds = {}\n",
    "for feature in features:\n",
    "     std_3x = df_weather[feature].std() * 3\n",
    "     thresholds[feature] = std_3x\n",
    "\n",
    "# 打印阈值\n",
    "print(\"特征的3倍标准差阈值:\")\n",
    "for feature, threshold in thresholds.items():\n",
    "     print(f\"{feature}: {threshold}\")\n",
    "\n",
    "# 将异常值替换为均值\n",
    "for feature in features:\n",
    "     mean_value = df_weather[feature].mean()\n",
    "     df_weather.loc[df_weather[feature] > thresholds[feature], feature] = mean_value\n",
    "\n",
    "\n",
    "# 删除Z-score列\n",
    "df_weather.drop(columns=[feature + '_zscore' for feature in features], inplace=True)\n",
    "\n",
    "# 查看处理后的数据\n",
    "print(df_weather.head(3)) "
   ]
  },
  {
   "cell_type": "code",
   "execution_count": 3,
   "metadata": {},
   "outputs": [
    {
     "name": "stdout",
     "output_type": "stream",
     "text": [
      "date                0.089202\n",
      "cloud_cover         0.122408\n",
      "sunshine            0.337460\n",
      "global_radiation    0.593108\n",
      "max_temp            0.907082\n",
      "mean_temp           0.934198\n",
      "min_temp            0.907082\n",
      "precipitation       0.076482\n",
      "pressure            0.086690\n",
      "snow_depth          0.136514\n",
      "diff_temp           0.282762\n",
      "dtype: float64\n",
      "selected features based on combined correlation: \n",
      " ['global_radiation', 'max_temp', 'mean_temp', 'min_temp']\n"
     ]
    }
   ],
   "source": [
    "import numpy as np\n",
    "import pandas as pd\n",
    "\n",
    "# 计算皮尔逊相关系数\n",
    "pearson_corr_max_temp = df_weather.corr()['max_temp']\n",
    "pearson_corr_min_temp = df_weather.corr()['min_temp']\n",
    "\n",
    "# 计算斯皮尔曼相关系数\n",
    "spearman_corr_max_temp = df_weather.corr(method='spearman')['max_temp']\n",
    "spearman_corr_min_temp = df_weather.corr(method='spearman')['min_temp']\n",
    "\n",
    "# 结合考虑两个系数\n",
    "combined_corr = (pearson_corr_max_temp.abs() + pearson_corr_min_temp.abs()\n",
    "                 +spearman_corr_max_temp.abs() + spearman_corr_min_temp.abs()) /4\n",
    "\n",
    "print(combined_corr)\n",
    "\n",
    "# 选择特征\n",
    "threshold = 0.4\n",
    "selected_features = combined_corr[combined_corr > threshold].index.tolist()\n",
    "\n",
    "print('selected features based on combined correlation: \\n', selected_features)"
   ]
  },
  {
   "cell_type": "code",
   "execution_count": 20,
   "metadata": {},
   "outputs": [
    {
     "name": "stdout",
     "output_type": "stream",
     "text": [
      "Size of the training set:  (9204, 4)\n",
      "Size of the validation set:  (3068, 4)\n",
      "Size of the testing set:  (3069, 4)\n",
      "Training set: \n",
      "       date  global_radiation  diff_temp  mean_temp  max_temp  min_temp\n",
      "0  20040510          1.238253  -1.232123   0.789803  0.047227  0.946273\n",
      "1  19930920         -0.830852  -0.242355   0.545411  0.642123  0.965047\n",
      "2  20130609         -0.234860  -0.580960   0.248650  0.108242  0.551999\n",
      "3  19810716          0.080004  -0.633053   0.964368  0.398063  0.946273\n",
      "4  20170818          0.957125  -0.528867   1.069108  0.825167  1.396871\n",
      "\n",
      "Validation set:\n",
      "       date  global_radiation  diff_temp  mean_temp  max_temp  min_temp\n",
      "0  20070216         -0.954548  -0.346541  -0.397242 -0.456146 -0.311649\n",
      "1  20110928          0.552300   2.075786   1.330956  1.938690  0.889948\n",
      "2  19870415          0.012533   1.242297  -0.309959  0.474332 -0.311649\n",
      "3  20081226         -0.819607  -1.414449  -1.322438 -1.569668 -0.912447\n",
      "4  20010403          0.597280  -0.659100  -0.205220 -0.593429 -0.255324\n",
      "\n",
      "Test set:\n",
      "       date  global_radiation  diff_temp  mean_temp  max_temp  min_temp\n",
      "0  20040510          1.238253  -1.232123   0.789803  0.047227  0.946273\n",
      "1  19930920         -0.830852  -0.242355   0.545411  0.642123  0.965047\n",
      "2  20130609         -0.234860  -0.580960   0.248650  0.108242  0.551999\n",
      "3  19810716          0.080004  -0.633053   0.964368  0.398063  0.946273\n",
      "4  20170818          0.957125  -0.528867   1.069108  0.825167  1.396871\n"
     ]
    }
   ],
   "source": [
    "from sklearn.model_selection import train_test_split\n",
    "\n",
    "# 分割数据集\n",
    "# 特征和目标变量\n",
    "X = df_weather[['date', 'global_radiation','diff_temp','mean_temp']]  # 特征\n",
    "y = df_weather[['max_temp', 'min_temp']]       # 目标变量\n",
    "\n",
    "# 先将数据集分为训练集+验证集 和 测试集\n",
    "X_train_val, X_test, y_train_val, y_test = train_test_split(X, y, test_size=0.2, random_state=42)\n",
    "\n",
    "# 再将训练集+验证集分为训练集和验证集\n",
    "X_train, X_val, y_train, y_val = train_test_split(X_train_val, y_train_val, test_size=0.25, random_state=42)\n",
    "\n",
    "# 查看数据集的大小\n",
    "print(\"Size of the training set: \", X_train.shape)\n",
    "print(\"Size of the validation set: \", X_val.shape)\n",
    "print(\"Size of the testing set: \", X_test.shape)\n",
    "\n",
    "# 可选：将分割后的数据保存为CSV文件\n",
    "train_data = pd.concat([X_train, y_train], axis=1)\n",
    "val_data = pd.concat([X_val, y_val], axis=1)\n",
    "test_data = pd.concat([X_test, y_test], axis=1)\n",
    "\n",
    "train_data.to_csv('train.csv', index=False)\n",
    "val_data.to_csv('val.csv', index=False)\n",
    "test_data.to_csv('test.csv', index=False)\n",
    "\n",
    "# 读取CSV文件\n",
    "train_df_weather = pd.read_csv('train.csv')\n",
    "val_df_weather = pd.read_csv('val.csv')\n",
    "test_df_weather = pd.read_csv('test.csv')\n",
    "\n",
    "# 查看数据集\n",
    "print('Training set: ')\n",
    "print(test_df_weather.head())\n",
    "print('\\nValidation set:')\n",
    "print(val_df_weather.head())\n",
    "print('\\nTest set:')\n",
    "print(test_df_weather.head())"
   ]
  },
  {
   "cell_type": "markdown",
   "metadata": {},
   "source": [
    "2.基线模型-移动平均"
   ]
  },
  {
   "cell_type": "code",
   "execution_count": 5,
   "metadata": {},
   "outputs": [],
   "source": [
    "# 计算移动平均\n",
    "def moving_average(data, window_size):\n",
    "    averages = []\n",
    "    for i in range(len(data) - window_size + 1):\n",
    "        window = data[i:i + window_size]\n",
    "        average = np.mean(window)\n",
    "        averages.append(average)\n",
    "    return np.array(averages)\n",
    "\n",
    "# 设置移动平均的窗口大小\n",
    "window_size = 7\n",
    "\n",
    "# 计算训练集中每个特征的移动平均\n",
    "X_train_ma = np.zeros((X_train.shape[0] - window_size + 1, X_train.shape[1]))\n",
    "for i in range(X_train.shape[1]):\n",
    "    X_train_ma[:, i] = moving_average(X_train.iloc[:, i], window_size)\n",
    "\n",
    "# 获取对应的目标变量\n",
    "y_train_max_ma = moving_average(y_train['max_temp'].values, window_size)\n",
    "y_train_min_ma = moving_average(y_train['min_temp'].values, window_size)\n",
    "\n",
    "# 创建简单的移动平均模型\n",
    "class MovingAverageModel:\n",
    "    def __init__(self):\n",
    "        self.window_size = None\n",
    "        self.coefficients = None\n",
    "\n",
    "    def fit(self, X, y):\n",
    "        self.window_size = X.shape[1]\n",
    "        self.coefficients = np.linalg.lstsq(X, y, rcond=None)[0]\n",
    "\n",
    "    def predict(self, X):\n",
    "        return np.dot(X, self.coefficients)\n",
    "        "
   ]
  },
  {
   "cell_type": "code",
   "execution_count": 6,
   "metadata": {},
   "outputs": [],
   "source": [
    "\n",
    "# 创建并训练移动平均模型\n",
    "model_max_temp = MovingAverageModel()\n",
    "model_min_temp = MovingAverageModel()\n",
    "model_max_temp.fit(X_train_ma, y_train_max_ma)\n",
    "model_min_temp.fit(X_train_ma, y_train_min_ma)\n",
    "\n",
    "# 在验证集上评估模型\n",
    "X_val_ma = np.zeros((X_val.shape[0] - window_size + 1, X_val.shape[1]))\n",
    "for i in range(X_val.shape[1]):\n",
    "    X_val_ma[:, i] = moving_average(X_val.iloc[:, i], window_size)\n",
    "\n",
    "y_val_pred_max = model_max_temp.predict(X_val_ma)\n",
    "y_val_pred_min = model_min_temp.predict(X_val_ma)\n",
    "\n",
    "# 在测试集上预测\n",
    "X_test_ma = np.zeros((X_test.shape[0] - window_size + 1, X_test.shape[1]))\n",
    "for i in range(X_test.shape[1]):\n",
    "    X_test_ma[:, i] = moving_average(X_test.iloc[:, i], window_size)\n",
    "\n",
    "y_test_pred_max_ma = model_max_temp.predict(X_test_ma)\n",
    "y_test_pred_min_ma = model_min_temp.predict(X_test_ma)\n"
   ]
  },
  {
   "cell_type": "code",
   "execution_count": 8,
   "metadata": {},
   "outputs": [
    {
     "name": "stdout",
     "output_type": "stream",
     "text": [
      "RMSE of 'max_temp' in test set: 0.91\n",
      "RMSE of 'min_temp' in test set: 0.93\n",
      "MSE of 'max_temp' in test set: 0.84\n",
      "MSE of 'min_temp' in test set: 0.86\n",
      "MAE of 'max_temp' in test set: 0.74\n",
      "MAE of 'min_temp' in test set: 0.76\n",
      "R² of 'max_temp' in test set: 0.15\n",
      "R² of 'min_temp' in test set: 0.14\n"
     ]
    }
   ],
   "source": [
    "# 评估模型\n",
    "from sklearn.metrics import mean_squared_error, mean_absolute_error, r2_score\n",
    "\n",
    "# RMSE\n",
    "mse_max_ma = mean_squared_error(y_test['max_temp'].values[window_size - 1:], y_test_pred_max_ma)\n",
    "mse_min_ma = mean_squared_error(y_test['min_temp'].values[window_size - 1:], y_test_pred_min_ma)\n",
    "\n",
    "# MSE\n",
    "mse_max_ma = mean_squared_error(y_test['max_temp'].values[window_size - 1:], y_test_pred_max_ma)\n",
    "mse_min_ma = mean_squared_error(y_test['min_temp'].values[window_size - 1:], y_test_pred_min_ma)\n",
    "\n",
    "# MAE\n",
    "mae_max_ma = mean_absolute_error(y_test['max_temp'].values[window_size - 1:], y_test_pred_max_ma)\n",
    "mae_min_ma = mean_absolute_error(y_test['min_temp'].values[window_size - 1:], y_test_pred_min_ma)\n",
    "\n",
    "# R2\n",
    "r2_max_ma = r2_score(y_test['max_temp'].values[window_size - 1:], y_test_pred_max_ma)\n",
    "r2_min_ma = r2_score(y_test['min_temp'].values[window_size - 1:], y_test_pred_min_ma)\n",
    "\n",
    "print(\"RMSE of 'max_temp' in test set: {:.2f}\".format(np.sqrt(mse_max_ma)))\n",
    "print(\"RMSE of 'min_temp' in test set: {:.2f}\".format(np.sqrt(mse_min_ma)))\n",
    "\n",
    "print(\"MSE of 'max_temp' in test set: {:.2f}\".format(mse_max_ma))\n",
    "print(\"MSE of 'min_temp' in test set: {:.2f}\".format(mse_min_ma))\n",
    "\n",
    "print(\"MAE of 'max_temp' in test set: {:.2f}\".format(mae_max_ma))\n",
    "print(\"MAE of 'min_temp' in test set: {:.2f}\".format(mae_min_ma))\n",
    "\n",
    "print(\"R² of 'max_temp' in test set: {:.2f}\".format(r2_max_ma))\n",
    "print(\"R² of 'min_temp' in test set: {:.2f}\".format(r2_min_ma))\n",
    "\n"
   ]
  },
  {
   "cell_type": "markdown",
   "metadata": {},
   "source": [
    "3.Random forest"
   ]
  },
  {
   "cell_type": "code",
   "execution_count": 9,
   "metadata": {},
   "outputs": [],
   "source": [
    "from sklearn.ensemble import RandomForestRegressor\n",
    "from sklearn.metrics import mean_squared_error\n",
    "from sklearn.model_selection import train_test_split\n",
    "\n",
    "def create_features_and_target(df, n_days=7):\n",
    "    df = df.copy()\n",
    "    for i in range(1, n_days + 1):\n",
    "        df[f'global_radiation_{i}d'] = df['global_radiation'].shift(i)\n",
    "        df[f'diff_temp_{i}d'] = df['diff_temp'].shift(i)\n",
    "        df[f'mean_temp_{i}d'] = df['mean_temp'].shift(i)\n",
    "    \n",
    "    df = df.dropna().reset_index(drop=True)\n",
    "    X = df[[f'global_radiation_{i}d' for i in range(1, n_days + 1)] +\n",
    "           [f'diff_temp_{i}d' for i in range(1, n_days + 1)] +\n",
    "           [f'mean_temp_{i}d' for i in range(1, n_days + 1)]]\n",
    "    y_max_rf = df['max_temp']\n",
    "    y_min_rf = df['min_temp']\n",
    "    return X, y_max_rf, y_min_rf\n",
    "\n",
    "# 创建训练、验证和测试集的特征和目标变量\n",
    "X_train_rf, y_train_max_rf, y_train_min_rf = create_features_and_target(train_df_weather)\n",
    "X_val_rf, y_val_max_rf, y_val_min_rf = create_features_and_target(val_df_weather)\n",
    "X_test_rf, y_test_max_rf, y_test_min_rf = create_features_and_target(test_df_weather)"
   ]
  },
  {
   "cell_type": "code",
   "execution_count": 10,
   "metadata": {},
   "outputs": [],
   "source": [
    "# 创建并训练随机森林模型\n",
    "rf_max = RandomForestRegressor(n_estimators=100, random_state=42)\n",
    "rf_max.fit(X_train_rf, y_train_max_rf)\n",
    "\n",
    "rf_min = RandomForestRegressor(n_estimators=100, random_state=42)\n",
    "rf_min.fit(X_train_rf, y_train_min_rf)\n",
    "\n",
    "# 在验证集上预测\n",
    "y_val_pred_max_rf = rf_max.predict(X_val_rf)\n",
    "y_val_pred_min_rf = rf_min.predict(X_val_rf)\n",
    "\n",
    "# 在测试集上预测\n",
    "y_test_pred_max_rf = rf_max.predict(X_test_rf)\n",
    "y_test_pred_min_rf = rf_min.predict(X_test_rf)\n"
   ]
  },
  {
   "cell_type": "code",
   "execution_count": 11,
   "metadata": {},
   "outputs": [
    {
     "name": "stdout",
     "output_type": "stream",
     "text": [
      "RMSE of 'max_temp' in test set: 0.997512313244413\n",
      "RMSE of 'min_temp' in test set: 0.9999474307399198\n",
      "MSE of 'max_temp' in test set: 0.99503081507422\n",
      "MSE of 'min_temp' in test set: 0.9998948642433666\n",
      "MAE of 'max_temp' in test set: 0.8257193362116109\n",
      "MAE of 'min_temp' in test set: 0.8283946337429856\n",
      "R² of 'max_temp' in test set: -0.014540578045701968\n",
      "R² of 'min_temp' in test set: -0.009682071072806497\n"
     ]
    }
   ],
   "source": [
    "# 评估模型\n",
    "\n",
    "from sklearn.metrics import mean_squared_error, mean_absolute_error, r2_score\n",
    "# 计算均方根误差 (RMSE)\n",
    "rmse_max_rf = np.sqrt(mean_squared_error(y_test_max_rf, y_test_pred_max_rf))\n",
    "rmse_min_rf = np.sqrt(mean_squared_error(y_test_min_rf, y_test_pred_min_rf))\n",
    "\n",
    "# 计算 MSE\n",
    "mse_max_rf = mean_squared_error(y_test_max_rf, y_test_pred_max_rf)\n",
    "mse_min_rf = mean_squared_error(y_test_min_rf, y_test_pred_min_rf)\n",
    "\n",
    "# 计算 MAE\n",
    "mae_max_rf = mean_absolute_error(y_test_max_rf, y_test_pred_max_rf)\n",
    "mae_min_rf = mean_absolute_error(y_test_min_rf, y_test_pred_min_rf)\n",
    "\n",
    "# 计算 R²\n",
    "r2_max_rf = r2_score(y_test_max_rf, y_test_pred_max_rf)\n",
    "r2_min_rf = r2_score(y_test_min_rf, y_test_pred_min_rf)\n",
    "\n",
    "print(f\"RMSE of 'max_temp' in test set: {rmse_max_rf}\")\n",
    "print(f\"RMSE of 'min_temp' in test set: {rmse_min_rf}\")\n",
    "\n",
    "print(f\"MSE of 'max_temp' in test set: {mse_max_rf}\")\n",
    "print(f\"MSE of 'min_temp' in test set: {mse_min_rf}\")\n",
    "\n",
    "print(f\"MAE of 'max_temp' in test set: {mae_max_rf}\")\n",
    "print(f\"MAE of 'min_temp' in test set: {mae_min_rf}\")\n",
    "\n",
    "print(f\"R² of 'max_temp' in test set: {r2_max_rf}\")\n",
    "print(f\"R² of 'min_temp' in test set: {r2_min_rf}\")"
   ]
  },
  {
   "cell_type": "markdown",
   "metadata": {},
   "source": [
    "4.LSTM"
   ]
  },
  {
   "cell_type": "code",
   "execution_count": 19,
   "metadata": {},
   "outputs": [
    {
     "name": "stdout",
     "output_type": "stream",
     "text": [
      "Size of the training set: (9197, 7, 3) (9197, 2)\n",
      "Size of the validation set: (3061, 7, 3) (3061, 2)\n",
      "Size of the testing set: (3062, 7, 3) (3062, 2)\n"
     ]
    }
   ],
   "source": [
    "# 按日期排序\n",
    "train_df_weather = train_df_weather.sort_values('date')\n",
    "val_df_weather = val_df_weather.sort_values('date')\n",
    "test_df_weather = test_df_weather.sort_values('date')\n",
    "\n",
    "# 特征和目标变量\n",
    "features = ['global_radiation', 'diff_temp', 'mean_temp']\n",
    "target = ['max_temp', 'min_temp']\n",
    "\n",
    "# 提取特征和目标变量\n",
    "train_X_rnn = train_df_weather[features].values\n",
    "train_y_rnn = train_df_weather[target].values\n",
    "\n",
    "val_X_rnn = val_df_weather[features].values\n",
    "val_y_rnn = val_df_weather[target].values\n",
    "\n",
    "test_X_rnn = test_df_weather[features].values\n",
    "test_y_rnn = test_df_weather[target].values\n",
    "\n",
    "# 创建时间窗口函数\n",
    "def create_time_series(X, y, time_steps=7):\n",
    "    Xs, ys = [], []\n",
    "    for i in range(len(X) - time_steps):\n",
    "        Xs.append(X[i:(i + time_steps)])\n",
    "        ys.append(y[i + time_steps])\n",
    "    return np.array(Xs), np.array(ys)\n",
    "\n",
    "# 创建时间窗口数据\n",
    "time_steps = 7\n",
    "X_train_rnn, y_train_rnn = create_time_series(train_X_rnn, train_y_rnn, time_steps)\n",
    "X_val_rnn, y_val_rnn = create_time_series(val_X_rnn, val_y_rnn, time_steps)\n",
    "X_test_rnn, y_test_rnn = create_time_series(test_X_rnn, test_y_rnn, time_steps)\n",
    "\n",
    "print(\"Size of the training set:\", X_train_rnn.shape, y_train_rnn.shape)\n",
    "print(\"Size of the validation set:\", X_val_rnn.shape, y_val_rnn.shape)\n",
    "print(\"Size of the testing set:\", X_test_rnn.shape, y_test_rnn.shape)\n"
   ]
  },
  {
   "cell_type": "code",
   "execution_count": 14,
   "metadata": {},
   "outputs": [
    {
     "name": "stderr",
     "output_type": "stream",
     "text": [
      "c:\\Users\\Administrator\\AppData\\Local\\Programs\\Python\\Python39\\lib\\site-packages\\keras\\src\\layers\\rnn\\rnn.py:204: UserWarning: Do not pass an `input_shape`/`input_dim` argument to a layer. When using Sequential models, prefer using an `Input(shape)` object as the first layer in the model instead.\n",
      "  super().__init__(**kwargs)\n"
     ]
    },
    {
     "data": {
      "text/html": [
       "<pre style=\"white-space:pre;overflow-x:auto;line-height:normal;font-family:Menlo,'DejaVu Sans Mono',consolas,'Courier New',monospace\"><span style=\"font-weight: bold\">Model: \"sequential\"</span>\n",
       "</pre>\n"
      ],
      "text/plain": [
       "\u001b[1mModel: \"sequential\"\u001b[0m\n"
      ]
     },
     "metadata": {},
     "output_type": "display_data"
    },
    {
     "data": {
      "text/html": [
       "<pre style=\"white-space:pre;overflow-x:auto;line-height:normal;font-family:Menlo,'DejaVu Sans Mono',consolas,'Courier New',monospace\">┏━━━━━━━━━━━━━━━━━━━━━━━━━━━━━━━━━┳━━━━━━━━━━━━━━━━━━━━━━━━┳━━━━━━━━━━━━━━━┓\n",
       "┃<span style=\"font-weight: bold\"> Layer (type)                    </span>┃<span style=\"font-weight: bold\"> Output Shape           </span>┃<span style=\"font-weight: bold\">       Param # </span>┃\n",
       "┡━━━━━━━━━━━━━━━━━━━━━━━━━━━━━━━━━╇━━━━━━━━━━━━━━━━━━━━━━━━╇━━━━━━━━━━━━━━━┩\n",
       "│ lstm (<span style=\"color: #0087ff; text-decoration-color: #0087ff\">LSTM</span>)                     │ (<span style=\"color: #00d7ff; text-decoration-color: #00d7ff\">None</span>, <span style=\"color: #00af00; text-decoration-color: #00af00\">50</span>)             │        <span style=\"color: #00af00; text-decoration-color: #00af00\">10,800</span> │\n",
       "├─────────────────────────────────┼────────────────────────┼───────────────┤\n",
       "│ dense (<span style=\"color: #0087ff; text-decoration-color: #0087ff\">Dense</span>)                   │ (<span style=\"color: #00d7ff; text-decoration-color: #00d7ff\">None</span>, <span style=\"color: #00af00; text-decoration-color: #00af00\">2</span>)              │           <span style=\"color: #00af00; text-decoration-color: #00af00\">102</span> │\n",
       "└─────────────────────────────────┴────────────────────────┴───────────────┘\n",
       "</pre>\n"
      ],
      "text/plain": [
       "┏━━━━━━━━━━━━━━━━━━━━━━━━━━━━━━━━━┳━━━━━━━━━━━━━━━━━━━━━━━━┳━━━━━━━━━━━━━━━┓\n",
       "┃\u001b[1m \u001b[0m\u001b[1mLayer (type)                   \u001b[0m\u001b[1m \u001b[0m┃\u001b[1m \u001b[0m\u001b[1mOutput Shape          \u001b[0m\u001b[1m \u001b[0m┃\u001b[1m \u001b[0m\u001b[1m      Param #\u001b[0m\u001b[1m \u001b[0m┃\n",
       "┡━━━━━━━━━━━━━━━━━━━━━━━━━━━━━━━━━╇━━━━━━━━━━━━━━━━━━━━━━━━╇━━━━━━━━━━━━━━━┩\n",
       "│ lstm (\u001b[38;5;33mLSTM\u001b[0m)                     │ (\u001b[38;5;45mNone\u001b[0m, \u001b[38;5;34m50\u001b[0m)             │        \u001b[38;5;34m10,800\u001b[0m │\n",
       "├─────────────────────────────────┼────────────────────────┼───────────────┤\n",
       "│ dense (\u001b[38;5;33mDense\u001b[0m)                   │ (\u001b[38;5;45mNone\u001b[0m, \u001b[38;5;34m2\u001b[0m)              │           \u001b[38;5;34m102\u001b[0m │\n",
       "└─────────────────────────────────┴────────────────────────┴───────────────┘\n"
      ]
     },
     "metadata": {},
     "output_type": "display_data"
    },
    {
     "data": {
      "text/html": [
       "<pre style=\"white-space:pre;overflow-x:auto;line-height:normal;font-family:Menlo,'DejaVu Sans Mono',consolas,'Courier New',monospace\"><span style=\"font-weight: bold\"> Total params: </span><span style=\"color: #00af00; text-decoration-color: #00af00\">10,902</span> (42.59 KB)\n",
       "</pre>\n"
      ],
      "text/plain": [
       "\u001b[1m Total params: \u001b[0m\u001b[38;5;34m10,902\u001b[0m (42.59 KB)\n"
      ]
     },
     "metadata": {},
     "output_type": "display_data"
    },
    {
     "data": {
      "text/html": [
       "<pre style=\"white-space:pre;overflow-x:auto;line-height:normal;font-family:Menlo,'DejaVu Sans Mono',consolas,'Courier New',monospace\"><span style=\"font-weight: bold\"> Trainable params: </span><span style=\"color: #00af00; text-decoration-color: #00af00\">10,902</span> (42.59 KB)\n",
       "</pre>\n"
      ],
      "text/plain": [
       "\u001b[1m Trainable params: \u001b[0m\u001b[38;5;34m10,902\u001b[0m (42.59 KB)\n"
      ]
     },
     "metadata": {},
     "output_type": "display_data"
    },
    {
     "data": {
      "text/html": [
       "<pre style=\"white-space:pre;overflow-x:auto;line-height:normal;font-family:Menlo,'DejaVu Sans Mono',consolas,'Courier New',monospace\"><span style=\"font-weight: bold\"> Non-trainable params: </span><span style=\"color: #00af00; text-decoration-color: #00af00\">0</span> (0.00 B)\n",
       "</pre>\n"
      ],
      "text/plain": [
       "\u001b[1m Non-trainable params: \u001b[0m\u001b[38;5;34m0\u001b[0m (0.00 B)\n"
      ]
     },
     "metadata": {},
     "output_type": "display_data"
    }
   ],
   "source": [
    "from tensorflow.keras.models import Sequential\n",
    "from tensorflow.keras.layers import Dense, LSTM\n",
    "\n",
    "# 建立模型\n",
    "model = Sequential()\n",
    "model.add(LSTM(50, activation='relu', input_shape=(time_steps, len(features))))\n",
    "model.add(Dense(2))  # 输出层有两个神经元，对应 max_temp 和 min_temp\n",
    "\n",
    "model.compile(optimizer='adam', loss='mse', run_eagerly=True)\n",
    "model.summary()\n",
    "\n"
   ]
  },
  {
   "cell_type": "code",
   "execution_count": 15,
   "metadata": {},
   "outputs": [
    {
     "name": "stdout",
     "output_type": "stream",
     "text": [
      "Epoch 1/50\n",
      "\u001b[1m288/288\u001b[0m \u001b[32m━━━━━━━━━━━━━━━━━━━━\u001b[0m\u001b[37m\u001b[0m \u001b[1m18s\u001b[0m 63ms/step - loss: 0.3992 - val_loss: 0.2986\n",
      "Epoch 2/50\n",
      "\u001b[1m288/288\u001b[0m \u001b[32m━━━━━━━━━━━━━━━━━━━━\u001b[0m\u001b[37m\u001b[0m \u001b[1m18s\u001b[0m 62ms/step - loss: 0.1950 - val_loss: 0.3006\n",
      "Epoch 3/50\n",
      "\u001b[1m288/288\u001b[0m \u001b[32m━━━━━━━━━━━━━━━━━━━━\u001b[0m\u001b[37m\u001b[0m \u001b[1m18s\u001b[0m 63ms/step - loss: 0.1870 - val_loss: 0.3048\n",
      "Epoch 4/50\n",
      "\u001b[1m288/288\u001b[0m \u001b[32m━━━━━━━━━━━━━━━━━━━━\u001b[0m\u001b[37m\u001b[0m \u001b[1m19s\u001b[0m 66ms/step - loss: 0.1852 - val_loss: 0.3000\n",
      "Epoch 5/50\n",
      "\u001b[1m288/288\u001b[0m \u001b[32m━━━━━━━━━━━━━━━━━━━━\u001b[0m\u001b[37m\u001b[0m \u001b[1m18s\u001b[0m 64ms/step - loss: 0.1838 - val_loss: 0.2977\n",
      "Epoch 6/50\n",
      "\u001b[1m288/288\u001b[0m \u001b[32m━━━━━━━━━━━━━━━━━━━━\u001b[0m\u001b[37m\u001b[0m \u001b[1m19s\u001b[0m 66ms/step - loss: 0.1814 - val_loss: 0.3007\n",
      "Epoch 7/50\n",
      "\u001b[1m288/288\u001b[0m \u001b[32m━━━━━━━━━━━━━━━━━━━━\u001b[0m\u001b[37m\u001b[0m \u001b[1m18s\u001b[0m 64ms/step - loss: 0.1806 - val_loss: 0.3011\n",
      "Epoch 8/50\n",
      "\u001b[1m288/288\u001b[0m \u001b[32m━━━━━━━━━━━━━━━━━━━━\u001b[0m\u001b[37m\u001b[0m \u001b[1m19s\u001b[0m 66ms/step - loss: 0.1823 - val_loss: 0.3003\n",
      "Epoch 9/50\n",
      "\u001b[1m288/288\u001b[0m \u001b[32m━━━━━━━━━━━━━━━━━━━━\u001b[0m\u001b[37m\u001b[0m \u001b[1m18s\u001b[0m 62ms/step - loss: 0.1816 - val_loss: 0.3083\n",
      "Epoch 10/50\n",
      "\u001b[1m288/288\u001b[0m \u001b[32m━━━━━━━━━━━━━━━━━━━━\u001b[0m\u001b[37m\u001b[0m \u001b[1m20s\u001b[0m 69ms/step - loss: 0.1834 - val_loss: 0.3007\n",
      "Epoch 11/50\n",
      "\u001b[1m288/288\u001b[0m \u001b[32m━━━━━━━━━━━━━━━━━━━━\u001b[0m\u001b[37m\u001b[0m \u001b[1m20s\u001b[0m 69ms/step - loss: 0.1788 - val_loss: 0.3044\n",
      "Epoch 12/50\n",
      "\u001b[1m288/288\u001b[0m \u001b[32m━━━━━━━━━━━━━━━━━━━━\u001b[0m\u001b[37m\u001b[0m \u001b[1m18s\u001b[0m 63ms/step - loss: 0.1846 - val_loss: 0.3031\n",
      "Epoch 13/50\n",
      "\u001b[1m288/288\u001b[0m \u001b[32m━━━━━━━━━━━━━━━━━━━━\u001b[0m\u001b[37m\u001b[0m \u001b[1m19s\u001b[0m 66ms/step - loss: 0.1798 - val_loss: 0.3070\n",
      "Epoch 14/50\n",
      "\u001b[1m288/288\u001b[0m \u001b[32m━━━━━━━━━━━━━━━━━━━━\u001b[0m\u001b[37m\u001b[0m \u001b[1m19s\u001b[0m 67ms/step - loss: 0.1795 - val_loss: 0.3040\n",
      "Epoch 15/50\n",
      "\u001b[1m288/288\u001b[0m \u001b[32m━━━━━━━━━━━━━━━━━━━━\u001b[0m\u001b[37m\u001b[0m \u001b[1m19s\u001b[0m 66ms/step - loss: 0.1777 - val_loss: 0.3028\n",
      "Epoch 16/50\n",
      "\u001b[1m288/288\u001b[0m \u001b[32m━━━━━━━━━━━━━━━━━━━━\u001b[0m\u001b[37m\u001b[0m \u001b[1m18s\u001b[0m 63ms/step - loss: 0.1773 - val_loss: 0.3055\n",
      "Epoch 17/50\n",
      "\u001b[1m288/288\u001b[0m \u001b[32m━━━━━━━━━━━━━━━━━━━━\u001b[0m\u001b[37m\u001b[0m \u001b[1m18s\u001b[0m 63ms/step - loss: 0.1760 - val_loss: 0.3009\n",
      "Epoch 18/50\n",
      "\u001b[1m288/288\u001b[0m \u001b[32m━━━━━━━━━━━━━━━━━━━━\u001b[0m\u001b[37m\u001b[0m \u001b[1m18s\u001b[0m 62ms/step - loss: 0.1816 - val_loss: 0.3027\n",
      "Epoch 19/50\n",
      "\u001b[1m288/288\u001b[0m \u001b[32m━━━━━━━━━━━━━━━━━━━━\u001b[0m\u001b[37m\u001b[0m \u001b[1m18s\u001b[0m 62ms/step - loss: 0.1763 - val_loss: 0.3064\n",
      "Epoch 20/50\n",
      "\u001b[1m288/288\u001b[0m \u001b[32m━━━━━━━━━━━━━━━━━━━━\u001b[0m\u001b[37m\u001b[0m \u001b[1m18s\u001b[0m 62ms/step - loss: 0.1770 - val_loss: 0.3061\n",
      "Epoch 21/50\n",
      "\u001b[1m288/288\u001b[0m \u001b[32m━━━━━━━━━━━━━━━━━━━━\u001b[0m\u001b[37m\u001b[0m \u001b[1m18s\u001b[0m 62ms/step - loss: 0.1761 - val_loss: 0.3018\n",
      "Epoch 22/50\n",
      "\u001b[1m288/288\u001b[0m \u001b[32m━━━━━━━━━━━━━━━━━━━━\u001b[0m\u001b[37m\u001b[0m \u001b[1m18s\u001b[0m 62ms/step - loss: 0.1778 - val_loss: 0.3183\n",
      "Epoch 23/50\n",
      "\u001b[1m288/288\u001b[0m \u001b[32m━━━━━━━━━━━━━━━━━━━━\u001b[0m\u001b[37m\u001b[0m \u001b[1m18s\u001b[0m 62ms/step - loss: 0.1766 - val_loss: 0.3010\n",
      "Epoch 24/50\n",
      "\u001b[1m288/288\u001b[0m \u001b[32m━━━━━━━━━━━━━━━━━━━━\u001b[0m\u001b[37m\u001b[0m \u001b[1m18s\u001b[0m 63ms/step - loss: 0.1738 - val_loss: 0.3029\n",
      "Epoch 25/50\n",
      "\u001b[1m288/288\u001b[0m \u001b[32m━━━━━━━━━━━━━━━━━━━━\u001b[0m\u001b[37m\u001b[0m \u001b[1m18s\u001b[0m 63ms/step - loss: 0.1745 - val_loss: 0.3013\n",
      "Epoch 26/50\n",
      "\u001b[1m288/288\u001b[0m \u001b[32m━━━━━━━━━━━━━━━━━━━━\u001b[0m\u001b[37m\u001b[0m \u001b[1m18s\u001b[0m 62ms/step - loss: 0.1779 - val_loss: 0.3067\n",
      "Epoch 27/50\n",
      "\u001b[1m288/288\u001b[0m \u001b[32m━━━━━━━━━━━━━━━━━━━━\u001b[0m\u001b[37m\u001b[0m \u001b[1m18s\u001b[0m 62ms/step - loss: 0.1720 - val_loss: 0.2986\n",
      "Epoch 28/50\n",
      "\u001b[1m288/288\u001b[0m \u001b[32m━━━━━━━━━━━━━━━━━━━━\u001b[0m\u001b[37m\u001b[0m \u001b[1m18s\u001b[0m 64ms/step - loss: 0.1777 - val_loss: 0.3068\n",
      "Epoch 29/50\n",
      "\u001b[1m288/288\u001b[0m \u001b[32m━━━━━━━━━━━━━━━━━━━━\u001b[0m\u001b[37m\u001b[0m \u001b[1m18s\u001b[0m 63ms/step - loss: 0.1743 - val_loss: 0.3057\n",
      "Epoch 30/50\n",
      "\u001b[1m288/288\u001b[0m \u001b[32m━━━━━━━━━━━━━━━━━━━━\u001b[0m\u001b[37m\u001b[0m \u001b[1m18s\u001b[0m 63ms/step - loss: 0.1783 - val_loss: 0.3093\n",
      "Epoch 31/50\n",
      "\u001b[1m288/288\u001b[0m \u001b[32m━━━━━━━━━━━━━━━━━━━━\u001b[0m\u001b[37m\u001b[0m \u001b[1m18s\u001b[0m 63ms/step - loss: 0.1741 - val_loss: 0.2965\n",
      "Epoch 32/50\n",
      "\u001b[1m288/288\u001b[0m \u001b[32m━━━━━━━━━━━━━━━━━━━━\u001b[0m\u001b[37m\u001b[0m \u001b[1m18s\u001b[0m 63ms/step - loss: 0.1759 - val_loss: 0.3078\n",
      "Epoch 33/50\n",
      "\u001b[1m288/288\u001b[0m \u001b[32m━━━━━━━━━━━━━━━━━━━━\u001b[0m\u001b[37m\u001b[0m \u001b[1m18s\u001b[0m 64ms/step - loss: 0.1770 - val_loss: 0.2983\n",
      "Epoch 34/50\n",
      "\u001b[1m288/288\u001b[0m \u001b[32m━━━━━━━━━━━━━━━━━━━━\u001b[0m\u001b[37m\u001b[0m \u001b[1m18s\u001b[0m 63ms/step - loss: 0.1714 - val_loss: 0.3026\n",
      "Epoch 35/50\n",
      "\u001b[1m288/288\u001b[0m \u001b[32m━━━━━━━━━━━━━━━━━━━━\u001b[0m\u001b[37m\u001b[0m \u001b[1m18s\u001b[0m 63ms/step - loss: 0.1780 - val_loss: 0.3099\n",
      "Epoch 36/50\n",
      "\u001b[1m288/288\u001b[0m \u001b[32m━━━━━━━━━━━━━━━━━━━━\u001b[0m\u001b[37m\u001b[0m \u001b[1m18s\u001b[0m 63ms/step - loss: 0.1686 - val_loss: 0.3029\n",
      "Epoch 37/50\n",
      "\u001b[1m288/288\u001b[0m \u001b[32m━━━━━━━━━━━━━━━━━━━━\u001b[0m\u001b[37m\u001b[0m \u001b[1m18s\u001b[0m 63ms/step - loss: 0.1732 - val_loss: 0.3089\n",
      "Epoch 38/50\n",
      "\u001b[1m288/288\u001b[0m \u001b[32m━━━━━━━━━━━━━━━━━━━━\u001b[0m\u001b[37m\u001b[0m \u001b[1m18s\u001b[0m 63ms/step - loss: 0.1758 - val_loss: 0.3042\n",
      "Epoch 39/50\n",
      "\u001b[1m288/288\u001b[0m \u001b[32m━━━━━━━━━━━━━━━━━━━━\u001b[0m\u001b[37m\u001b[0m \u001b[1m18s\u001b[0m 63ms/step - loss: 0.1725 - val_loss: 0.3044\n",
      "Epoch 40/50\n",
      "\u001b[1m288/288\u001b[0m \u001b[32m━━━━━━━━━━━━━━━━━━━━\u001b[0m\u001b[37m\u001b[0m \u001b[1m18s\u001b[0m 63ms/step - loss: 0.1724 - val_loss: 0.3139\n",
      "Epoch 41/50\n",
      "\u001b[1m288/288\u001b[0m \u001b[32m━━━━━━━━━━━━━━━━━━━━\u001b[0m\u001b[37m\u001b[0m \u001b[1m18s\u001b[0m 63ms/step - loss: 0.1695 - val_loss: 0.3113\n",
      "Epoch 42/50\n",
      "\u001b[1m288/288\u001b[0m \u001b[32m━━━━━━━━━━━━━━━━━━━━\u001b[0m\u001b[37m\u001b[0m \u001b[1m18s\u001b[0m 63ms/step - loss: 0.1721 - val_loss: 0.3080\n",
      "Epoch 43/50\n",
      "\u001b[1m288/288\u001b[0m \u001b[32m━━━━━━━━━━━━━━━━━━━━\u001b[0m\u001b[37m\u001b[0m \u001b[1m18s\u001b[0m 63ms/step - loss: 0.1707 - val_loss: 0.3044\n",
      "Epoch 44/50\n",
      "\u001b[1m288/288\u001b[0m \u001b[32m━━━━━━━━━━━━━━━━━━━━\u001b[0m\u001b[37m\u001b[0m \u001b[1m18s\u001b[0m 63ms/step - loss: 0.1701 - val_loss: 0.3128\n",
      "Epoch 45/50\n",
      "\u001b[1m288/288\u001b[0m \u001b[32m━━━━━━━━━━━━━━━━━━━━\u001b[0m\u001b[37m\u001b[0m \u001b[1m18s\u001b[0m 63ms/step - loss: 0.1711 - val_loss: 0.3032\n",
      "Epoch 46/50\n",
      "\u001b[1m288/288\u001b[0m \u001b[32m━━━━━━━━━━━━━━━━━━━━\u001b[0m\u001b[37m\u001b[0m \u001b[1m18s\u001b[0m 63ms/step - loss: 0.1705 - val_loss: 0.3004\n",
      "Epoch 47/50\n",
      "\u001b[1m288/288\u001b[0m \u001b[32m━━━━━━━━━━━━━━━━━━━━\u001b[0m\u001b[37m\u001b[0m \u001b[1m18s\u001b[0m 63ms/step - loss: 0.1690 - val_loss: 0.3136\n",
      "Epoch 48/50\n",
      "\u001b[1m288/288\u001b[0m \u001b[32m━━━━━━━━━━━━━━━━━━━━\u001b[0m\u001b[37m\u001b[0m \u001b[1m18s\u001b[0m 63ms/step - loss: 0.1682 - val_loss: 0.3069\n",
      "Epoch 49/50\n",
      "\u001b[1m288/288\u001b[0m \u001b[32m━━━━━━━━━━━━━━━━━━━━\u001b[0m\u001b[37m\u001b[0m \u001b[1m18s\u001b[0m 63ms/step - loss: 0.1674 - val_loss: 0.3069\n",
      "Epoch 50/50\n",
      "\u001b[1m288/288\u001b[0m \u001b[32m━━━━━━━━━━━━━━━━━━━━\u001b[0m\u001b[37m\u001b[0m \u001b[1m18s\u001b[0m 63ms/step - loss: 0.1682 - val_loss: 0.3134\n"
     ]
    }
   ],
   "source": [
    "# 训练模型\n",
    "history = model.fit(X_train_rnn, y_train_rnn, epochs=50, batch_size=32, validation_data=(X_val_rnn, y_val_rnn))"
   ]
  },
  {
   "cell_type": "code",
   "execution_count": 16,
   "metadata": {},
   "outputs": [
    {
     "name": "stderr",
     "output_type": "stream",
     "text": [
      "WARNING:absl:You are saving your model as an HDF5 file via `model.save()` or `keras.saving.save_model(model)`. This file format is considered legacy. We recommend using instead the native Keras format, e.g. `model.save('my_model.keras')` or `keras.saving.save_model(model, 'my_model.keras')`. \n"
     ]
    }
   ],
   "source": [
    "# 保存模型\n",
    "model.save('rnn_weather_model.h5')\n",
    "\n"
   ]
  },
  {
   "cell_type": "code",
   "execution_count": 17,
   "metadata": {},
   "outputs": [
    {
     "name": "stdout",
     "output_type": "stream",
     "text": [
      "\u001b[1m96/96\u001b[0m \u001b[32m━━━━━━━━━━━━━━━━━━━━\u001b[0m\u001b[37m\u001b[0m \u001b[1m3s\u001b[0m 27ms/step - loss: 0.3190\n",
      "测试集上的损失: 0.31407442688941956\n"
     ]
    },
    {
     "data": {
      "image/png": "[encoded data removed]",
      "text/plain": [
       "<Figure size 640x480 with 1 Axes>"
      ]
     },
     "metadata": {},
     "output_type": "display_data"
    }
   ],
   "source": [
    "import matplotlib.pyplot as plt\n",
    "\n",
    "# 评估模型\n",
    "loss = model.evaluate(X_test_rnn, y_test_rnn)\n",
    "print('测试集上的损失:', loss)\n",
    "\n",
    "# 绘制训练和验证损失\n",
    "plt.plot(history.history['loss'], label='Training Loss')\n",
    "plt.plot(history.history['val_loss'], label='Validation Loss')\n",
    "plt.title('Training and Validation Loss')\n",
    "plt.xlabel('Epochs')\n",
    "plt.ylabel('Loss')\n",
    "plt.legend()\n",
    "plt.show()"
   ]
  },
  {
   "cell_type": "code",
   "execution_count": 18,
   "metadata": {},
   "outputs": [
    {
     "name": "stdout",
     "output_type": "stream",
     "text": [
      "\u001b[1m96/96\u001b[0m \u001b[32m━━━━━━━━━━━━━━━━━━━━\u001b[0m\u001b[37m\u001b[0m \u001b[1m2s\u001b[0m 23ms/step\n",
      "\u001b[1m96/96\u001b[0m \u001b[32m━━━━━━━━━━━━━━━━━━━━\u001b[0m\u001b[37m\u001b[0m \u001b[1m2s\u001b[0m 22ms/step\n",
      "RMSE of 'max_temp' in test set: 0.5285702691356324\n",
      "RMSE of 'min_temp' in test set: 0.5905610530126105\n",
      "MSE of 'max_temp' in test set: 0.2793865294141149\n",
      "MSE of 'min_temp' in test set: 0.3487623573353633\n",
      "MAE of 'max_temp' in test set: 0.40703329394204063\n",
      "MAE of 'min_temp' in test set: 0.4573847349468734\n",
      "R² of 'max_temp' in test set: 0.7130553926907965\n",
      "R² of 'min_temp' in test set: 0.6454279644318992\n"
     ]
    }
   ],
   "source": [
    "# 评估模型\n",
    "# 使用验证集进行预测\n",
    "y_val_pred_rnn = model.predict(X_val_rnn)\n",
    "\n",
    "# 使用测试集进行预测\n",
    "y_test_pred_rnn = model.predict(X_test_rnn)\n",
    "\n",
    "# 计算RMSE\n",
    "rmse_max_rnn = np.sqrt(mean_squared_error(y_test_rnn[:, 0], y_test_pred_rnn[:, 0]))\n",
    "rmse_min_rnn = np.sqrt(mean_squared_error(y_test_rnn[:, 1], y_test_pred_rnn[:, 1]))\n",
    "\n",
    "# 计算MSE\n",
    "mse_max_rnn = mean_squared_error(y_test_rnn[:, 0], y_test_pred_rnn[:, 0])\n",
    "mse_min_rnn = mean_squared_error(y_test_rnn[:, 1], y_test_pred_rnn[:, 1])\n",
    "\n",
    "# 计算MAE\n",
    "mae_max_rnn = mean_absolute_error(y_test_rnn[:, 0], y_test_pred_rnn[:, 0])\n",
    "mae_min_rnn = mean_absolute_error(y_test_rnn[:, 1], y_test_pred_rnn[:, 1])\n",
    "\n",
    "# 计算R²\n",
    "r2_max_rnn = r2_score(y_test_rnn[:, 0], y_test_pred_rnn[:, 0])\n",
    "r2_min_rnn = r2_score(y_test_rnn[:, 1], y_test_pred_rnn[:, 1])\n",
    "\n",
    "print(f\"RMSE of 'max_temp' in test set: {rmse_max_rnn}\")\n",
    "print(f\"RMSE of 'min_temp' in test set: {rmse_min_rnn}\")\n",
    "\n",
    "print(f\"MSE of 'max_temp' in test set: {mse_max_rnn}\")\n",
    "print(f\"MSE of 'min_temp' in test set: {mse_min_rnn}\")\n",
    "\n",
    "print(f\"MAE of 'max_temp' in test set: {mae_max_rnn}\")\n",
    "print(f\"MAE of 'min_temp' in test set: {mae_min_rnn}\")\n",
    "\n",
    "print(f\"R² of 'max_temp' in test set: {r2_max_rnn}\")\n",
    "print(f\"R² of 'min_temp' in test set: {r2_min_rnn}\")\n"
   ]
  }
 ],
 "metadata": {
  "kernelspec": {
   "display_name": "Python 3",
   "language": "python",
   "name": "python3"
  },
  "language_info": {
   "codemirror_mode": {
    "name": "ipython",
    "version": 3
   },
   "file_extension": ".py",
   "mimetype": "text/x-python",
   "name": "python",
   "nbconvert_exporter": "python",
   "pygments_lexer": "ipython3",
   "version": "3.9.13"
  },
  "orig_nbformat": 4
 },
 "nbformat": 4,
 "nbformat_minor": 2
}
